{
 "cells": [
  {
   "cell_type": "code",
   "execution_count": 1,
   "id": "0650e2f9-ebe8-4148-970e-9d617d1b76e6",
   "metadata": {},
   "outputs": [],
   "source": [
    "!pip install -qU aif360\n",
    "!pip install -qU 'aif360[Reductions]'\n",
    "!pip install -qU 'aif360[inFairness]'"
   ]
  },
  {
   "cell_type": "code",
   "execution_count": 2,
   "id": "e9be8188-8169-4f8a-a8a4-9d77c860c878",
   "metadata": {},
   "outputs": [
    {
     "name": "stderr",
     "output_type": "stream",
     "text": [
      "2024-11-12 05:28:11.865237: I tensorflow/core/util/port.cc:111] oneDNN custom operations are on. You may see slightly different numerical results due to floating-point round-off errors from different computation orders. To turn them off, set the environment variable `TF_ENABLE_ONEDNN_OPTS=0`.\n",
      "2024-11-12 05:28:11.902936: I tensorflow/tsl/cuda/cudart_stub.cc:28] Could not find cuda drivers on your machine, GPU will not be used.\n",
      "2024-11-12 05:28:12.074189: E tensorflow/compiler/xla/stream_executor/cuda/cuda_dnn.cc:9342] Unable to register cuDNN factory: Attempting to register factory for plugin cuDNN when one has already been registered\n",
      "2024-11-12 05:28:12.074248: E tensorflow/compiler/xla/stream_executor/cuda/cuda_fft.cc:609] Unable to register cuFFT factory: Attempting to register factory for plugin cuFFT when one has already been registered\n",
      "2024-11-12 05:28:12.075466: E tensorflow/compiler/xla/stream_executor/cuda/cuda_blas.cc:1518] Unable to register cuBLAS factory: Attempting to register factory for plugin cuBLAS when one has already been registered\n",
      "2024-11-12 05:28:12.165631: I tensorflow/tsl/cuda/cudart_stub.cc:28] Could not find cuda drivers on your machine, GPU will not be used.\n",
      "2024-11-12 05:28:12.166962: I tensorflow/core/platform/cpu_feature_guard.cc:182] This TensorFlow binary is optimized to use available CPU instructions in performance-critical operations.\n",
      "To enable the following instructions: AVX2 AVX_VNNI FMA, in other operations, rebuild TensorFlow with the appropriate compiler flags.\n",
      "2024-11-12 05:28:13.138950: W tensorflow/compiler/tf2tensorrt/utils/py_utils.cc:38] TF-TRT Warning: Could not find TensorRT\n",
      "/opt/conda/lib/python3.11/site-packages/torch/_functorch/deprecated.py:58: UserWarning: We've integrated functorch into PyTorch. As the final step of the integration, functorch.vmap is deprecated as of PyTorch 2.0 and will be deleted in a future version of PyTorch >= 2.3. Please use torch.vmap instead; see the PyTorch 2.0 release notes and/or the torch.func migration guide for more details https://pytorch.org/docs/master/func.migrating.html\n",
      "  warn_deprecated('vmap', 'torch.vmap')\n"
     ]
    }
   ],
   "source": [
    "# Load all necessary packages\n",
    "import sys\n",
    "#sys.path.insert(1, \"../\")  \n",
    "sys.path.insert(1, \"work/trendsinai/notebooks/data/GermanDataset\")\n",
    "import numpy as np\n",
    "np.random.seed(0)\n",
    "\n",
    "from aif360.datasets import GermanDataset\n",
    "from aif360.metrics import BinaryLabelDatasetMetric\n",
    "from aif360.algorithms.preprocessing import Reweighing\n",
    "\n",
    "from IPython.display import Markdown, display"
   ]
  },
  {
   "cell_type": "code",
   "execution_count": 4,
   "id": "ebfced32-8d13-4122-9e87-6c4095e07113",
   "metadata": {},
   "outputs": [
    {
     "name": "stdout",
     "output_type": "stream",
     "text": [
      "/home/jovyan/work/trendsinai/notebooks\n",
      "work/trendsinai/notebooks/data/GermanDataset\n",
      "/opt/conda/lib/python311.zip\n",
      "/opt/conda/lib/python3.11\n",
      "/opt/conda/lib/python3.11/lib-dynload\n",
      "\n",
      "/opt/conda/lib/python3.11/site-packages\n"
     ]
    }
   ],
   "source": [
    "for el in sys.path:\n",
    "    print(el)"
   ]
  },
  {
   "cell_type": "markdown",
   "id": "deb537b8-e80a-4c26-9d6e-8ecdda079c8f",
   "metadata": {},
   "source": [
    "## Step 2 Load dataset, specifying protected attribute, and split dataset into train and test\n",
    "\n",
    "In Step 2 we load the initial dataset, setting the protected attribute to be age. We then split the original dataset into training and testing datasets. Although we will use only the training dataset in this tutorial, a normal workflow would also use a test dataset for assessing the efficacy (accuracy, fairness, etc.) during the development of a machine learning model. \n",
    "\n",
    "Finally, we set two variables (to be used in Step 3) for the privileged (1) and unprivileged (0) values for the age attribute. These are key inputs for detecting and mitigating bias, which will be Step 3 and Step 4."
   ]
  },
  {
   "cell_type": "code",
   "execution_count": 26,
   "id": "3fffdef4-21a6-4d18-9b5d-a8fa50754ae6",
   "metadata": {},
   "outputs": [
    {
     "name": "stdout",
     "output_type": "stream",
     "text": [
      "<class 'aif360.datasets.german_dataset.GermanDataset'>\n",
      "['__abstractmethods__', '__class__', '__delattr__', '__dict__', '__dir__', '__doc__', '__eq__', '__format__', '__ge__', '__getattribute__', '__getstate__', '__gt__', '__hash__', '__init__', '__init_subclass__', '__le__', '__lt__', '__module__', '__ne__', '__new__', '__reduce__', '__reduce_ex__', '__repr__', '__setattr__', '__sizeof__', '__slotnames__', '__slots__', '__str__', '__subclasshook__', '__weakref__', '_abc_impl', '_de_dummy_code_df', '_parse_feature_names', 'align_datasets', 'convert_to_dataframe', 'copy', 'export_dataset', 'favorable_label', 'feature_names', 'features', 'ignore_fields', 'import_dataset', 'instance_names', 'instance_weights', 'label_names', 'labels', 'metadata', 'privileged_protected_attributes', 'protected_attribute_names', 'protected_attributes', 'scores', 'split', 'subset', 'temporarily_ignore', 'unfavorable_label', 'unprivileged_protected_attributes', 'validate_dataset']\n",
      "   month  credit_amount  investment_as_income_percentage  residence_since  \\\n",
      "0    6.0         1169.0                              4.0              4.0   \n",
      "1   48.0         5951.0                              2.0              2.0   \n",
      "2   12.0         2096.0                              2.0              3.0   \n",
      "3   42.0         7882.0                              2.0              4.0   \n",
      "4   24.0         4870.0                              3.0              4.0   \n",
      "\n",
      "   age  number_of_credits  people_liable_for  status=A11  status=A12  \\\n",
      "0  1.0                2.0                1.0         1.0         0.0   \n",
      "1  0.0                1.0                1.0         0.0         1.0   \n",
      "2  1.0                1.0                2.0         0.0         0.0   \n",
      "3  1.0                1.0                2.0         1.0         0.0   \n",
      "4  1.0                2.0                2.0         1.0         0.0   \n",
      "\n",
      "   status=A13  ...  housing=A153  skill_level=A171  skill_level=A172  \\\n",
      "0         0.0  ...           0.0               0.0               0.0   \n",
      "1         0.0  ...           0.0               0.0               0.0   \n",
      "2         0.0  ...           0.0               0.0               1.0   \n",
      "3         0.0  ...           1.0               0.0               0.0   \n",
      "4         0.0  ...           1.0               0.0               0.0   \n",
      "\n",
      "   skill_level=A173  skill_level=A174  telephone=A191  telephone=A192  \\\n",
      "0               1.0               0.0             0.0             1.0   \n",
      "1               1.0               0.0             1.0             0.0   \n",
      "2               0.0               0.0             1.0             0.0   \n",
      "3               1.0               0.0             1.0             0.0   \n",
      "4               1.0               0.0             1.0             0.0   \n",
      "\n",
      "   foreign_worker=A201  foreign_worker=A202  credit  \n",
      "0                  1.0                  0.0     1.0  \n",
      "1                  1.0                  0.0     2.0  \n",
      "2                  1.0                  0.0     1.0  \n",
      "3                  1.0                  0.0     1.0  \n",
      "4                  1.0                  0.0     2.0  \n",
      "\n",
      "[5 rows x 58 columns]\n"
     ]
    }
   ],
   "source": [
    "dataset_orig = GermanDataset(\n",
    "    protected_attribute_names=['age'],           # this dataset also contains protected\n",
    "                                                 # attribute for \"sex\" which we do not\n",
    "                                                 # consider in this evaluation\n",
    "    privileged_classes=[lambda x: x >= 25],      # age >=25 is considered privileged\n",
    "    features_to_drop=['personal_status', 'sex'] # ignore sex-related attributes\n",
    ")\n",
    "\n",
    "print(type(dataset_orig))\n",
    "print(dir(dataset_orig))\n",
    "\n",
    "a = dataset_orig.convert_to_dataframe()\n",
    "print(a[0].head())\n",
    "\n",
    "dataset_orig_train, dataset_orig_test = dataset_orig.split([0.7], shuffle=True)\n",
    "\n",
    "privileged_groups = [{'age': 1}]\n",
    "unprivileged_groups = [{'age': 0}]"
   ]
  },
  {
   "cell_type": "code",
   "execution_count": 34,
   "id": "eb26562f-a118-4d62-ac81-1d42e31c59aa",
   "metadata": {},
   "outputs": [
    {
     "name": "stdout",
     "output_type": "stream",
     "text": [
      "{1.0}\n",
      "1.0\n"
     ]
    }
   ],
   "source": [
    "print(set(dataset_orig.instance_weights))\n",
    "for el in set(dataset_orig.instance_weights):\n",
    "    print(el)"
   ]
  },
  {
   "cell_type": "markdown",
   "id": "880a3542-fde5-4283-b097-90a26c345b72",
   "metadata": {},
   "source": [
    "## Step 3 Compute fairness metric on original training dataset\n",
    "\n",
    "Now that we've identified the protected attribute 'age' and defined privileged and unprivileged values, we can use aif360 to detect **bias in the dataset**. \n",
    "\n",
    "One simple test is to compare the percentage of favorable results for the privileged and unprivileged groups, subtracting the former percentage from the latter. \n",
    "\n",
    "A negative value indicates less favorable outcomes for the unprivileged groups. \n",
    "\n",
    "This is implemented in the method called mean_difference on the BinaryLabelDatasetMetric class. \n",
    "\n",
    "The code below performs this check and displays the output, showing that the difference is -0.169905."
   ]
  },
  {
   "cell_type": "code",
   "execution_count": 27,
   "id": "4ed2d152-536e-43f7-aa1d-a97c8997acfa",
   "metadata": {},
   "outputs": [
    {
     "data": {
      "text/markdown": [
       "#### Original training dataset"
      ],
      "text/plain": [
       "<IPython.core.display.Markdown object>"
      ]
     },
     "metadata": {},
     "output_type": "display_data"
    },
    {
     "name": "stdout",
     "output_type": "stream",
     "text": [
      "Difference in mean outcomes between unprivileged and privileged groups = -0.129916\n"
     ]
    }
   ],
   "source": [
    "metric_orig_train = BinaryLabelDatasetMetric(dataset_orig_train, \n",
    "                                             unprivileged_groups=unprivileged_groups,\n",
    "                                             privileged_groups=privileged_groups)\n",
    "display(Markdown(\"#### Original training dataset\"))\n",
    "print(\"Difference in mean outcomes between unprivileged and privileged groups = %f\" % metric_orig_train.mean_difference())"
   ]
  },
  {
   "cell_type": "markdown",
   "id": "e0c89e93-2133-4d73-83f5-543beafcbc03",
   "metadata": {},
   "source": [
    "## Step 4 Mitigate bias by transforming the original dataset\n",
    "\n",
    "The previous step showed that the privileged group was getting 13% more positive outcomes in the training dataset. \n",
    "\n",
    "Since this is not desirable, we are going to try to mitigate this bias in the training dataset. As stated above, this is called **pre-processing mitigation** because it happens before the creation of the model.\n",
    "\n",
    "AI Fairness 360 implements several pre-processing mitigation algorithms. We will choose the **Reweighing algorithm**, which is implemented in the Reweighing class in the aif360.algorithms.preprocessing package. This algorithm will transform the dataset to have more equity in positive outcomes on the protected attribute for the privileged and unprivileged groups.\n",
    "\n",
    "We then call the fit and transform methods to perform the transformation, producing a newly transformed training dataset (dataset_transf_train)."
   ]
  },
  {
   "cell_type": "code",
   "execution_count": 28,
   "id": "589fa5e4-93eb-44e2-804e-ddb1ce395ac9",
   "metadata": {},
   "outputs": [],
   "source": [
    "RW = Reweighing(unprivileged_groups=unprivileged_groups,\n",
    "                privileged_groups=privileged_groups)\n",
    "dataset_transf_train = RW.fit_transform(dataset_orig_train)"
   ]
  },
  {
   "cell_type": "markdown",
   "id": "88787b86-0008-4520-902a-25591b854ce7",
   "metadata": {},
   "source": [
    "## Step 5 Compute fairness metric on transformed dataset\n",
    "\n",
    "Now that we have a transformed dataset, we can check how effective it was in removing bias by using the same metric we used for the original training dataset in Step 3. \n",
    "\n",
    "Once again, we use the function mean_difference in the BinaryLabelDatasetMetric class. \n",
    "\n",
    "We see the mitigation step was very effective, the difference in mean outcomes is now 0.0. So we went from a 13% advantage for the privileged group to equality in terms of mean outcome."
   ]
  },
  {
   "cell_type": "code",
   "execution_count": 29,
   "id": "b15913d7-7105-43f1-87d3-a5d6978f44bf",
   "metadata": {},
   "outputs": [
    {
     "data": {
      "text/markdown": [
       "#### Transformed training dataset"
      ],
      "text/plain": [
       "<IPython.core.display.Markdown object>"
      ]
     },
     "metadata": {},
     "output_type": "display_data"
    },
    {
     "name": "stdout",
     "output_type": "stream",
     "text": [
      "Difference in mean outcomes between unprivileged and privileged groups = 0.000000\n"
     ]
    }
   ],
   "source": [
    "metric_transf_train = BinaryLabelDatasetMetric(dataset_transf_train, \n",
    "                                               unprivileged_groups=unprivileged_groups,\n",
    "                                               privileged_groups=privileged_groups)\n",
    "display(Markdown(\"#### Transformed training dataset\"))\n",
    "print(\"Difference in mean outcomes between unprivileged and privileged groups = %f\" % metric_transf_train.mean_difference())"
   ]
  }
 ],
 "metadata": {
  "kernelspec": {
   "display_name": "Python 3 (ipykernel)",
   "language": "python",
   "name": "python3"
  },
  "language_info": {
   "codemirror_mode": {
    "name": "ipython",
    "version": 3
   },
   "file_extension": ".py",
   "mimetype": "text/x-python",
   "name": "python",
   "nbconvert_exporter": "python",
   "pygments_lexer": "ipython3",
   "version": "3.11.6"
  }
 },
 "nbformat": 4,
 "nbformat_minor": 5
}
