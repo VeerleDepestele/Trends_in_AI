{
 "cells": [
  {
   "cell_type": "markdown",
   "id": "ef5dd8e5-fdf3-4e58-a917-8afc5f576ca9",
   "metadata": {},
   "source": [
    "Statistical parity"
   ]
  },
  {
   "cell_type": "code",
   "execution_count": 1,
   "id": "d28ac3bf-0b8d-4bcd-be36-649b6c5552df",
   "metadata": {},
   "outputs": [],
   "source": [
    "# imports\n",
    "import pandas as pd\n",
    "import numpy as np\n",
    "# import warnings\n",
    "# warnings.filterwarnings(\"ignore\", category=UserWarning)\n",
    "import matplotlib.pyplot as plt\n",
    "import seaborn as sns"
   ]
  },
  {
   "cell_type": "markdown",
   "id": "1c350099-722b-429f-bd71-c22fade088d6",
   "metadata": {},
   "source": [
    "Generate data"
   ]
  },
  {
   "cell_type": "code",
   "execution_count": 3,
   "id": "86545b59-1bfb-4298-8e87-21a418dfbbdd",
   "metadata": {},
   "outputs": [],
   "source": [
    "df_t0 = pd.DataFrame({'gender': np.random.choice(['F','M'], 10000, p=[0.52, 0.48]),\n",
    "'target': 0,\n",
    "'predictions': np.random.choice([0,1], 10000, p=[0.98, 0.02])})\n",
    "df_t1_f = pd.DataFrame({'gender': ['F'] * 350,\n",
    "'target': 1,\n",
    "'predictions': np.random.choice([0,1], 350, p=[0.35, 0.65])})\n",
    "df_t1_m = pd.DataFrame({'gender': ['M'] * 650,\n",
    "'target': 1,\n",
    "'predictions': np.random.choice([0,1], 650, p=[0.63, 0.37])})\n",
    "df_test = pd.concat([df_t0, df_t1_f, df_t1_m], axis=0)"
   ]
  },
  {
   "cell_type": "markdown",
   "id": "8a5e0f91-d117-4aa5-9bc0-349a660bbf49",
   "metadata": {},
   "source": [
    "Print basic information"
   ]
  },
  {
   "cell_type": "code",
   "execution_count": 4,
   "id": "83deedc7-2e37-4335-964b-4664271f3fda",
   "metadata": {},
   "outputs": [],
   "source": [
    "def print_basic_stats(df, target_col, sensitive_attribute, text_header=''):\n",
    "    def get_basic_stats(df, target_col):\n",
    "        return df.shape[0], df[target_col].sum(), 100* df[target_col].sum() / df.shape[0]\n",
    "    n_tot, n_1, p_1 = get_basic_stats(df, target_col)\n",
    "    print(f'{text_header}: {p_1:.2f}% ({n_1:.0f}/{n_tot:.0f})')\n",
    "    text_header = f\"{text_header} \".lstrip()\n",
    "    for sens in np.sort(df[sensitive_attribute].unique()):\n",
    "        n_tot, n_1, p_1 = get_basic_stats(df.loc[df[sensitive_attribute]==sens, :], target_col)\n",
    "        print(f'{text_header}{sens}: {p_1:.2f}% ({n_1:.0f}/{n_tot:.0f})')"
   ]
  },
  {
   "cell_type": "code",
   "execution_count": 5,
   "id": "c80d82fe-3fae-486b-8d93-4716e9050ed2",
   "metadata": {},
   "outputs": [
    {
     "name": "stdout",
     "output_type": "stream",
     "text": [
      "test set: 9.09% (1000/11000)\n",
      "test set F: 6.25% (350/5598)\n",
      "test set M: 12.03% (650/5402)\n"
     ]
    }
   ],
   "source": [
    "sensitive_attribute = 'gender'\n",
    "sensitive_attribute_label = 'gender'\n",
    "\n",
    "print_basic_stats(df_test, 'target',  sensitive_attribute, 'test set')"
   ]
  },
  {
   "cell_type": "markdown",
   "id": "c27e7ba9-25b0-40ea-8854-71363130142e",
   "metadata": {},
   "source": [
    "Prepare data for plot"
   ]
  },
  {
   "cell_type": "code",
   "execution_count": 13,
   "id": "4c935571-043c-4263-800c-96df753d3498",
   "metadata": {},
   "outputs": [
    {
     "name": "stdout",
     "output_type": "stream",
     "text": [
      "order: ['F', 'M']\n",
      "qq:         volume  percentage\n",
      "gender                    \n",
      "F         5598   50.890909\n",
      "M         5402   49.109091\n"
     ]
    },
    {
     "data": {
      "text/html": [
       "<div>\n",
       "<style scoped>\n",
       "    .dataframe tbody tr th:only-of-type {\n",
       "        vertical-align: middle;\n",
       "    }\n",
       "\n",
       "    .dataframe tbody tr th {\n",
       "        vertical-align: top;\n",
       "    }\n",
       "\n",
       "    .dataframe thead th {\n",
       "        text-align: right;\n",
       "    }\n",
       "</style>\n",
       "<table border=\"1\" class=\"dataframe\">\n",
       "  <thead>\n",
       "    <tr style=\"text-align: right;\">\n",
       "      <th></th>\n",
       "      <th>gender</th>\n",
       "      <th>volume</th>\n",
       "      <th>percentage</th>\n",
       "      <th>n_target</th>\n",
       "      <th>target ratio</th>\n",
       "      <th>n_preds</th>\n",
       "      <th>prediction ratio</th>\n",
       "      <th>prediction percentage</th>\n",
       "    </tr>\n",
       "  </thead>\n",
       "  <tbody>\n",
       "    <tr>\n",
       "      <th>0</th>\n",
       "      <td>F</td>\n",
       "      <td>5598</td>\n",
       "      <td>50.890909</td>\n",
       "      <td>350.0</td>\n",
       "      <td>6.252233</td>\n",
       "      <td>347.0</td>\n",
       "      <td>6.198642</td>\n",
       "      <td>51.407407</td>\n",
       "    </tr>\n",
       "    <tr>\n",
       "      <th>1</th>\n",
       "      <td>M</td>\n",
       "      <td>5402</td>\n",
       "      <td>49.109091</td>\n",
       "      <td>650.0</td>\n",
       "      <td>12.032581</td>\n",
       "      <td>328.0</td>\n",
       "      <td>6.071825</td>\n",
       "      <td>48.592593</td>\n",
       "    </tr>\n",
       "  </tbody>\n",
       "</table>\n",
       "</div>"
      ],
      "text/plain": [
       "  gender  volume  percentage  n_target  target ratio  n_preds  \\\n",
       "0      F    5598   50.890909     350.0      6.252233    347.0   \n",
       "1      M    5402   49.109091     650.0     12.032581    328.0   \n",
       "\n",
       "   prediction ratio  prediction percentage  \n",
       "0          6.198642              51.407407  \n",
       "1          6.071825              48.592593  "
      ]
     },
     "execution_count": 13,
     "metadata": {},
     "output_type": "execute_result"
    }
   ],
   "source": [
    "dd = df_test\n",
    "order = df_test[sensitive_attribute].unique().tolist()\n",
    "qq = dd[sensitive_attribute].value_counts().rename(\"volume\").to_frame()\n",
    "qq['percentage'] = 100 * qq['volume'] / dd.shape[0]\n",
    "\n",
    "print(f\"order: {order}\")\n",
    "print(f\"qq: {qq}\")\n",
    "\n",
    "qq = qq.join(dd.groupby(sensitive_attribute).apply(\n",
    "    lambda x: pd.Series([x['target'].sum(), \n",
    "                         100 * x['target'].mean()], index=('n_target', 'target ratio'))))\n",
    "\n",
    "n_preds_total = dd['predictions'].sum()\n",
    "\n",
    "qq = qq.join(dd.groupby(sensitive_attribute).apply(\n",
    "    lambda x: pd.Series([x['predictions'].sum(), \n",
    "                         100 * x['predictions'].mean()], index=('n_preds', 'prediction ratio'))))\n",
    "\n",
    "qq['prediction percentage'] = qq['n_preds'] / n_preds_total * 100\n",
    "\n",
    "qq = qq.reset_index().rename(columns={'index': sensitive_attribute_label})\n",
    "qq"
   ]
  },
  {
   "cell_type": "code",
   "execution_count": 14,
   "id": "2921e1b6-247b-4a31-842d-aabd2196fe43",
   "metadata": {},
   "outputs": [],
   "source": [
    "# Functions to change plot appearance\n",
    "\n",
    "def change_height(ax, new_value):\n",
    "    for patch in ax.patches:\n",
    "        current_height = patch.get_height()\n",
    "        diff = current_height - new_value\n",
    "        # we change the bar width\n",
    "        patch.set_height(new_value)\n",
    "        # we re-center the bar\n",
    "        patch.set_y(patch.get_y() + diff * .5)\n",
    "\n",
    "def show_values(axs, orient=\"v\", space=.01, decimals=1):\n",
    "    def _single(ax):\n",
    "        if orient == \"v\":\n",
    "            for p in ax.patches:\n",
    "                _x = p.get_x() + p.get_width() / 2\n",
    "                _y = pd.get_y() + p.get_height() + (p.get_height()*0.01)\n",
    "                value = (' {:.'+str(decimals)+'f} %').format(p.get_height())\n",
    "                ax.text(_x, _y, value, ha=\"center\")\n",
    "        elif orient == \"h\":\n",
    "            for p in ax.patches:\n",
    "                _x = p.get_x() + p.get_width() + float(space)\n",
    "                _y = p.get_y() + p.get_height() - (p.get_height() *.5)\n",
    "                value = (' {:.'+str(decimals)+'f} %').format(p.get_width())\n",
    "                ax.text(_x, _y, value, ha=\"left\")\n",
    "\n",
    "    if isinstance(axs, np.ndarray):\n",
    "        for idx, ax in np.ndenumerate(axs):\n",
    "            _single(ax)\n",
    "    else:\n",
    "        _single(axs)\n",
    "    "
   ]
  },
  {
   "cell_type": "code",
   "execution_count": 17,
   "id": "8b3e4df0-f2bb-48c3-a898-25a6b17bb846",
   "metadata": {},
   "outputs": [
    {
     "data": {
      "image/png": "[encoded data removed]",
      "text/plain": [
       "<Figure size 1200x200 with 3 Axes>"
      ]
     },
     "metadata": {},
     "output_type": "display_data"
    }
   ],
   "source": [
    "fig, axes = plt.subplots(1, 3, figsize= (12, 2))\n",
    "\n",
    "p1 = sns.barplot(ax=axes[0], y=sensitive_attribute_label, x=\"target ratio\", data=qq, color='seagreen')\n",
    "axes[0].set_title('Target ratios per '+ sensitive_attribute_label)\n",
    "axes[0].set_xlabel(None)\n",
    "\n",
    "p2 = sns.barplot(ax=axes[1], y=sensitive_attribute_label, x=\"prediction ratio\", data=qq, color='seagreen')\n",
    "axes[1].set_title('Model selection ratios per '+ sensitive_attribute_label)\n",
    "axes[1].set_xlabel(None)\n",
    "\n",
    "p3 = sns.barplot(ax=axes[2], y=sensitive_attribute_label, x=\"prediction percentage\", data=qq, color='seagreen')\n",
    "axes[1].set_title('Percent of prediction target '+ sensitive_attribute_label + ' in top 10k predictions')\n",
    "axes[1].set_xlabel(None)\n",
    "\n",
    "# make bars thiner\n",
    "change_height(axes[0], .5)\n",
    "change_height(axes[1], .5)\n",
    "change_height(axes[2], .5)\n",
    "\n",
    "# show values on barplot\n",
    "show_values(p1, \"h\", space=0)\n",
    "show_values(p2, \"h\", space=0)\n",
    "show_values(p3, \"h\", space=0)\n",
    "\n",
    "sns.despine(left=True, bottom=True)\n",
    "plt.tight_layout()"
   ]
  }
 ],
 "metadata": {
  "kernelspec": {
   "display_name": "Python 3 (ipykernel)",
   "language": "python",
   "name": "python3"
  },
  "language_info": {
   "codemirror_mode": {
    "name": "ipython",
    "version": 3
   },
   "file_extension": ".py",
   "mimetype": "text/x-python",
   "name": "python",
   "nbconvert_exporter": "python",
   "pygments_lexer": "ipython3",
   "version": "3.11.6"
  }
 },
 "nbformat": 4,
 "nbformat_minor": 5
}
