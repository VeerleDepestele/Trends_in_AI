{
 "cells": [
  {
   "cell_type": "markdown",
   "metadata": {},
   "source": [
    "(Feature_importance_-_explainability_in_one_line)=\n",
    "# Feature importance - explainability in one line"
   ]
  },
  {
   "cell_type": "markdown",
   "metadata": {},
   "source": [
    "The goal of this notebook is to ''open the box'' at (nearly) no cost. As we mainly focus on two types of models (decision-tree based algorithms and neural networks), two one-line sklearn commands can be used, one for each type of model. \n",
    "\n",
    "In both cases, the underlying idea, allowing the explanation, is discussed. The two methods discussed are the following:\n",
    "\n",
    "1. The Gini feature importance, which is model-specific. It allows ranking the importance of features for tree-based classifiers.  \n",
    "2. The feature permutation importance, which is model-agnostic. This method also provides a ranking of the importance of the features but it can be applied to any model. "
   ]
  },
  {
   "cell_type": "markdown",
   "metadata": {},
   "source": [
    "## The Gini feature importance"
   ]
  },
  {
   "cell_type": "markdown",
   "metadata": {},
   "source": [
    "Recall how decision trees are built: every non-terminal node has a split value for a single feature. The split values and corresponding features are chosen, such as the two obtained children nodes are purer (i.e., the two target classes are more segregated) after the split. For classification problems (such as in fraud detection), this purity is usually measured by\n",
    "- the Gini criterion (which is used by default in sklearn),\n",
    "- or the information gain.\n",
    "\n",
    "The Gini feature importance measure is, for each feature, the total reduction of the Gini criterion. This total reduction is normalized per node size. Therefore, the Gini feature importance is sometimes called MDI for mean decrease impurity. For random forests, it reports the average of the impurity decreases over all trees. \n",
    "\n",
    "This explanation method is model-specific, as it relies on the Gini impurity mechanism of the trees.\n",
    "\n",
    "![or-clf](img/or-clf.png)\n"
   ]
  },
  {
   "cell_type": "markdown",
   "metadata": {},
   "source": [
    "Through this lesson, some explanations for models trained will be provided by multiple explainers. To assess these explanations, we need to compare them to a sort of ground truth explanation. \n",
    "\n",
    "During the lesson, we will use a toy example. We dispose of transactional data. Our goal is to make (and explain) a model that predicts whether or not a transaction is a fraudulent one.\n",
    "\n",
    "From the data exploration, we observe two scenarios:\n",
    "\n",
    "- Scenario 1: All transactions with an amount higher than 220 seem to be flagged as fraudulent. Clearly, the amount is expected to be part of the explanation, and 220 is an important threshold.\n",
    "- Scenario 2: By monitoring the average amount of transactions on a given time window, we've noticed that for compromised customers, 1/3 of their transactions have their amounts multiplied by 5, i.e. some transactions involve an amount that is much larger than the \"usual\" transactions of the customer.\n",
    "\n",
    "In order to discuss the merit of each explanation method, a model is trained on a week of transactional data. \n",
    "\n",
    "`TX_AMOUNT`, `CUSTOMER_ID_AVG_AMOUNT_1DAY_WINDOW`, and `CUSTOMER_ID_AVG_AMOUNT_30DAY_WINDOW` are included as interesting features, and `TX_DURING_NIGHT` is also included, representing a non predictive feature. Two types of models are considered: random forests and neural networks."
   ]
  },
  {
   "cell_type": "markdown",
   "metadata": {},
   "source": [
    "Before computing feature importances, we need a model. We train a default random forest:"
   ]
  },
  {
   "cell_type": "code",
   "execution_count": 6,
   "metadata": {},
   "outputs": [
    {
     "name": "stdout",
     "output_type": "stream",
     "text": [
      "Collecting imblearn\n",
      "  Downloading imblearn-0.0-py2.py3-none-any.whl.metadata (355 bytes)\n",
      "Collecting imbalanced-learn (from imblearn)\n",
      "  Downloading imbalanced_learn-0.12.4-py3-none-any.whl.metadata (8.3 kB)\n",
      "Requirement already satisfied: numpy>=1.17.3 in /opt/conda/lib/python3.11/site-packages (from imbalanced-learn->imblearn) (1.24.4)\n",
      "Requirement already satisfied: scipy>=1.5.0 in /opt/conda/lib/python3.11/site-packages (from imbalanced-learn->imblearn) (1.11.3)\n",
      "Requirement already satisfied: scikit-learn>=1.0.2 in /opt/conda/lib/python3.11/site-packages (from imbalanced-learn->imblearn) (1.3.1)\n",
      "Requirement already satisfied: joblib>=1.1.1 in /opt/conda/lib/python3.11/site-packages (from imbalanced-learn->imblearn) (1.3.2)\n",
      "Requirement already satisfied: threadpoolctl>=2.0.0 in /opt/conda/lib/python3.11/site-packages (from imbalanced-learn->imblearn) (3.2.0)\n",
      "Downloading imblearn-0.0-py2.py3-none-any.whl (1.9 kB)\n",
      "Downloading imbalanced_learn-0.12.4-py3-none-any.whl (258 kB)\n",
      "\u001b[2K   \u001b[90m━━━━━━━━━━━━━━━━━━━━━━━━━━━━━━━━━━━━━━━━\u001b[0m \u001b[32m258.3/258.3 kB\u001b[0m \u001b[31m6.4 MB/s\u001b[0m eta \u001b[36m0:00:00\u001b[0ma \u001b[36m0:00:01\u001b[0m\n",
      "\u001b[?25hInstalling collected packages: imbalanced-learn, imblearn\n",
      "Successfully installed imbalanced-learn-0.12.4 imblearn-0.0\n"
     ]
    }
   ],
   "source": [
    "# pip install the required libraries.\n",
    "\n",
    "# ! pip install graphviz\n",
    "# ! pip install xgboost\n",
    "# ! pip install imblearn"
   ]
  },
  {
   "cell_type": "code",
   "execution_count": 7,
   "metadata": {},
   "outputs": [
    {
     "name": "stdout",
     "output_type": "stream",
     "text": [
      "  % Total    % Received % Xferd  Average Speed   Time    Time     Time  Current\n",
      "                                 Dload  Upload   Total   Spent    Left  Speed\n",
      "100 63257  100 63257    0     0   545k      0 --:--:-- --:--:-- --:--:--  546k\n"
     ]
    }
   ],
   "source": [
    "# Initialization: Load shared functions and simulated data \n",
    "\n",
    "# Load shared functions\n",
    "!curl -O https://raw.githubusercontent.com/Fraud-Detection-Handbook/fraud-detection-handbook/main/Chapter_References/shared_functions.py\n",
    "%run shared_functions.py\n",
    "\n",
    "# Get simulated data from Github repository\n",
    "if not os.path.exists(\"simulated-data-transformed\"):\n",
    "    !git clone https://github.com/Fraud-Detection-Handbook/simulated-data-transformed"
   ]
  },
  {
   "cell_type": "code",
   "execution_count": 10,
   "metadata": {},
   "outputs": [
    {
     "name": "stdout",
     "output_type": "stream",
     "text": [
      "Load  files\n",
      "CPU times: user 169 ms, sys: 189 ms, total: 358 ms\n",
      "Wall time: 1.37 s\n",
      "613550 transactions loaded, containing 5500 fraudulent transactions\n"
     ]
    },
    {
     "data": {
      "text/html": [
       "<div>\n",
       "<style scoped>\n",
       "    .dataframe tbody tr th:only-of-type {\n",
       "        vertical-align: middle;\n",
       "    }\n",
       "\n",
       "    .dataframe tbody tr th {\n",
       "        vertical-align: top;\n",
       "    }\n",
       "\n",
       "    .dataframe thead th {\n",
       "        text-align: right;\n",
       "    }\n",
       "</style>\n",
       "<table border=\"1\" class=\"dataframe\">\n",
       "  <thead>\n",
       "    <tr style=\"text-align: right;\">\n",
       "      <th></th>\n",
       "      <th>AUC ROC</th>\n",
       "      <th>Average precision</th>\n",
       "      <th>Card Precision@50</th>\n",
       "    </tr>\n",
       "  </thead>\n",
       "  <tbody>\n",
       "    <tr>\n",
       "      <th>0</th>\n",
       "      <td>0.665</td>\n",
       "      <td>0.303</td>\n",
       "      <td>0.154</td>\n",
       "    </tr>\n",
       "  </tbody>\n",
       "</table>\n",
       "</div>"
      ],
      "text/plain": [
       "   AUC ROC  Average precision  Card Precision@50\n",
       "0    0.665              0.303              0.154"
      ]
     },
     "execution_count": 10,
     "metadata": {},
     "output_type": "execute_result"
    }
   ],
   "source": [
    "import numpy as np\n",
    "import pandas as pd\n",
    "import timeit\n",
    "import pickle\n",
    "from sklearn.tree import DecisionTreeClassifier\n",
    "from sklearn.ensemble import RandomForestClassifier\n",
    "from sklearn.neural_network import MLPClassifier\n",
    "\n",
    "%run shared_functions.py\n",
    "\n",
    "# Load data from the 2018-07-25 to the 2018-08-14\n",
    "DIR_INPUT='./simulated-data-transformed/data/' \n",
    "\n",
    "BEGIN_DATE = \"2018-07-25\"\n",
    "END_DATE = \"2018-09-26\"\n",
    "\n",
    "print(\"Load  files\")\n",
    "%time transactions_df=read_from_files(DIR_INPUT, BEGIN_DATE, END_DATE)\n",
    "print(\"{0} transactions loaded, containing {1} fraudulent transactions\".format(len(transactions_df),transactions_df.TX_FRAUD.sum()))\n",
    "\n",
    "# Training period\n",
    "start_date_training = datetime.datetime.strptime(\"2018-07-25\", \"%Y-%m-%d\")\n",
    "end_date_training = datetime.datetime.strptime(\"2018-07-31\", \"%Y-%m-%d\")\n",
    "\n",
    "# Delay period\n",
    "start_date_delay = datetime.datetime.strptime(\"2018-08-01\", \"%Y-%m-%d\")\n",
    "end_date_delay = datetime.datetime.strptime(\"2018-08-07\", \"%Y-%m-%d\")\n",
    "\n",
    "# Test period\n",
    "start_date_test = datetime.datetime.strptime(\"2018-08-08\", \"%Y-%m-%d\")\n",
    "end_date_test = datetime.datetime.strptime(\"2018-08-15\", \"%Y-%m-%d\")\n",
    "\n",
    "# Get the corresponding data\n",
    "train = transactions_df[transactions_df.TX_DATETIME<end_date_training]\n",
    "delay = transactions_df[transactions_df.TX_DATETIME>start_date_delay]\n",
    "delay =           delay[transactions_df.TX_DATETIME<end_date_delay] \n",
    "test = transactions_df[transactions_df.TX_DATETIME>start_date_test]\n",
    "\n",
    "# Build classifier\n",
    "clf = RandomForestClassifier(random_state=0)\n",
    "\n",
    "input_features = ['TX_AMOUNT', 'TX_DURING_NIGHT', 'CUSTOMER_ID_AVG_AMOUNT_1DAY_WINDOW', 'CUSTOMER_ID_AVG_AMOUNT_30DAY_WINDOW']\n",
    "input_features_small = ['AMOUNT', 'NIGHT', 'AVA1D', 'AVA30D']\n",
    "output_feature = \"TX_FRAUD\"\n",
    "\n",
    "# Train classifier\n",
    "model_and_predictions_dictionary = fit_model_and_get_predictions(clf, train, test, \n",
    "                                                                 input_features, output_feature, scale=False)\n",
    "\n",
    "test['predictions']=model_and_predictions_dictionary['predictions_test']\n",
    "    \n",
    "performance_assessment(test, top_k_list=[50])"
   ]
  },
  {
   "cell_type": "markdown",
   "metadata": {},
   "source": [
    "As promised in the name of this section, the Gini feature importance is fast to compute and easy to retrieve, in a single line:"
   ]
  },
  {
   "cell_type": "code",
   "execution_count": 11,
   "metadata": {},
   "outputs": [
    {
     "data": {
      "text/plain": [
       "TX_AMOUNT                              0.401686\n",
       "TX_DURING_NIGHT                        0.007298\n",
       "CUSTOMER_ID_AVG_AMOUNT_1DAY_WINDOW     0.284104\n",
       "CUSTOMER_ID_AVG_AMOUNT_30DAY_WINDOW    0.306912\n",
       "dtype: float64"
      ]
     },
     "execution_count": 11,
     "metadata": {},
     "output_type": "execute_result"
    }
   ],
   "source": [
    "pd.Series(clf.feature_importances_,index=input_features)"
   ]
  },
  {
   "cell_type": "markdown",
   "metadata": {},
   "source": [
    "`TX_AMOUNT` appears to be the most important feature, which is unsurprising, regarding its key role in fraud scenario 1. The `AVG_AMOUNT` features are also important, as they allow to detect the fraud scenario 2. The Gini importance fails to decide which one is the most important, however. Finally, `TX_DURING_NIGHT` is not important, as it is expected from a noisy feature."
   ]
  },
  {
   "cell_type": "markdown",
   "metadata": {},
   "source": [
    "For random forests, sklearn proposes the following code snippet to display the MDI (Mean Decrease Impurity) for all trees in a plot. The importance is just the average among all trees, with the associated variances appearing as black bars."
   ]
  },
  {
   "cell_type": "code",
   "execution_count": 12,
   "metadata": {},
   "outputs": [
    {
     "data": {
      "image/png": "[encoded data removed]",
      "text/plain": [
       "<Figure size 640x480 with 1 Axes>"
      ]
     },
     "metadata": {},
     "output_type": "display_data"
    }
   ],
   "source": [
    "# Compute the feature importance and their standard deviations\n",
    "importances = clf.feature_importances_\n",
    "std = np.std([tree.feature_importances_ for tree in clf.estimators_], axis=0)\n",
    "forest_importances = pd.Series(importances, index=input_features_small)\n",
    "\n",
    "# Plot the feature importance and standard deviations\n",
    "fig, ax = plt.subplots()\n",
    "forest_importances.plot.bar(yerr=std, ax=ax)\n",
    "ax.set_title(\"Feature importances using MDI\")\n",
    "ax.set_ylabel(\"Mean decrease in impurity\")\n",
    "fig.tight_layout()"
   ]
  },
  {
   "cell_type": "markdown",
   "metadata": {},
   "source": [
    "The Gini feature importance is known to be biased in favor of features with high cardinality. So it must be used cautiously. We can be confident in our findings as there were no such features here.\n",
    "\n",
    "https://explained.ai/rf-importance/index.html\n",
    "https://bmcbioinformatics.biomedcentral.com/articles/10.1186/1471-2105-8-25\n",
    "\n",
    "Therefore the use of this technique is in some cases discouraged, and it is encouraged to use the feature permutation technique instead (or maybe even the \"drop-feature\" method)."
   ]
  },
  {
   "cell_type": "markdown",
   "metadata": {},
   "source": [
    "## The feature permutation importance"
   ]
  },
  {
   "cell_type": "markdown",
   "metadata": {},
   "source": [
    "Of course, the Gini feature importance is specific to tree-based algorithms and cannot be used for neural networks. Therefore, another popular approach is introduced: the feature permutation importance. \n",
    "\n",
    "The feature permutation of a given feature is computed as the difference between a baseline score $s$ and the average score obtained by randomly permuting the corresponding feature column: \n",
    "\n",
    "$$ f_j = s - \\frac{1}{n} \\displaystyle \\sum_{i=1}^n s_{ij}$$\n",
    "\n",
    "where $j$ is the feature under consideration and $i$ controls the repetitions (see below). The score can be any accuracy measure for classification or $R^2$ for regression. If $f_j$ is small, then the model is insensitive to permutations of feature $j$, and it implies that the importance of $j$ is low. Contrarily, if $f_j$ is large, then the importance of feature $j$ is high. Usually, multiple permutations per feature are computed and averaged. This is the role of the variable $n$ (which is five by default in sklearn). More permutations allow a better estimation of the feature importance, but computation time also increases. "
   ]
  },
  {
   "cell_type": "markdown",
   "metadata": {},
   "source": [
    "For exaple, permuting the TX_AMOUNT column would look like this:\n",
    "\n",
    "![les9_permutation_based_feature_importance](img/les9_permutation_based_feature_importance.png)"
   ]
  },
  {
   "cell_type": "markdown",
   "metadata": {},
   "source": [
    "Let us now train a default sklearn neural network and obtain the feature permutation importance for it."
   ]
  },
  {
   "cell_type": "code",
   "execution_count": 6,
   "metadata": {},
   "outputs": [
    {
     "data": {
      "text/html": [
       "<div>\n",
       "<style scoped>\n",
       "    .dataframe tbody tr th:only-of-type {\n",
       "        vertical-align: middle;\n",
       "    }\n",
       "\n",
       "    .dataframe tbody tr th {\n",
       "        vertical-align: top;\n",
       "    }\n",
       "\n",
       "    .dataframe thead th {\n",
       "        text-align: right;\n",
       "    }\n",
       "</style>\n",
       "<table border=\"1\" class=\"dataframe\">\n",
       "  <thead>\n",
       "    <tr style=\"text-align: right;\">\n",
       "      <th></th>\n",
       "      <th>AUC ROC</th>\n",
       "      <th>Average precision</th>\n",
       "      <th>Card Precision@50</th>\n",
       "    </tr>\n",
       "  </thead>\n",
       "  <tbody>\n",
       "    <tr>\n",
       "      <th>0</th>\n",
       "      <td>0.66</td>\n",
       "      <td>0.292</td>\n",
       "      <td>0.147</td>\n",
       "    </tr>\n",
       "  </tbody>\n",
       "</table>\n",
       "</div>"
      ],
      "text/plain": [
       "   AUC ROC  Average precision  Card Precision@50\n",
       "0     0.66              0.292              0.147"
      ]
     },
     "execution_count": 6,
     "metadata": {},
     "output_type": "execute_result"
    }
   ],
   "source": [
    "clf = MLPClassifier(random_state=0)\n",
    "\n",
    "model_and_predictions_dictionary = fit_model_and_get_predictions(clf, train, test, \n",
    "                                                                 input_features, output_feature, scale=False)\n",
    "\n",
    "test['predictions']=model_and_predictions_dictionary['predictions_test']\n",
    "    \n",
    "performance_assessment(test, top_k_list=[50])"
   ]
  },
  {
   "cell_type": "markdown",
   "metadata": {},
   "source": [
    "The code for the permutation importance is also really convenient (but is is slower to compute than the Gini importance):"
   ]
  },
  {
   "cell_type": "code",
   "execution_count": 7,
   "metadata": {},
   "outputs": [],
   "source": [
    "from sklearn.inspection import permutation_importance\n",
    "\n",
    "result = permutation_importance(clf, test[input_features], test[output_feature], random_state=0)"
   ]
  },
  {
   "cell_type": "code",
   "execution_count": 8,
   "metadata": {},
   "outputs": [
    {
     "data": {
      "text/plain": [
       "TX_AMOUNT                              0.136433\n",
       "TX_DURING_NIGHT                       -0.000008\n",
       "CUSTOMER_ID_AVG_AMOUNT_1DAY_WINDOW     0.000224\n",
       "CUSTOMER_ID_AVG_AMOUNT_30DAY_WINDOW    0.144310\n",
       "dtype: float64"
      ]
     },
     "execution_count": 8,
     "metadata": {},
     "output_type": "execute_result"
    }
   ],
   "source": [
    "pd.Series(result.importances_mean, index=input_features)"
   ]
  },
  {
   "cell_type": "markdown",
   "metadata": {},
   "source": [
    "Here, the results are a bit different than with the random forest, but with some similarities. `TX_AMOUNT` is still the most important feature, but `CUSTOMER_ID_AVG_AMOUNT_30DAY_WINDOW` is almost equally important. The other `AVG_AMOUNT` features are less important. `TX_DURING_NIGHT` is still not important, as expected."
   ]
  }
 ],
 "metadata": {
  "kernelspec": {
   "display_name": "Python 3 (ipykernel)",
   "language": "python",
   "name": "python3"
  },
  "language_info": {
   "codemirror_mode": {
    "name": "ipython",
    "version": 3
   },
   "file_extension": ".py",
   "mimetype": "text/x-python",
   "name": "python",
   "nbconvert_exporter": "python",
   "pygments_lexer": "ipython3",
   "version": "3.11.6"
  }
 },
 "nbformat": 4,
 "nbformat_minor": 4
}
