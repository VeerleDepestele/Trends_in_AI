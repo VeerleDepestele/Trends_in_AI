{
 "cells": [
  {
   "cell_type": "markdown",
   "id": "5a316f1a-c269-4148-99be-ed14750bc3f0",
   "metadata": {},
   "source": [
    "Data Bias Check"
   ]
  },
  {
   "cell_type": "code",
   "execution_count": 1,
   "id": "e26c7bf4-6a2f-43d7-8380-5c0db246c274",
   "metadata": {},
   "outputs": [],
   "source": [
    "# imports\n",
    "import pandas as pd\n",
    "import numpy as np\n",
    "# import warnings\n",
    "# warnings.filterwarnings(\"ignore\", category=UserWarning)\n",
    "import matplotlib.pyplot as plt\n",
    "import seaborn as sns"
   ]
  },
  {
   "cell_type": "markdown",
   "id": "c953ed14-96f7-42de-b58d-64e9efcef069",
   "metadata": {},
   "source": [
    "Generate data"
   ]
  },
  {
   "cell_type": "code",
   "execution_count": 39,
   "id": "a886a23a-81fb-4d9b-b75e-8ca5a6c78a06",
   "metadata": {},
   "outputs": [
    {
     "name": "stdout",
     "output_type": "stream",
     "text": [
      "(10000, 2)\n",
      "(800, 2)\n"
     ]
    }
   ],
   "source": [
    "df_t0 = pd.DataFrame({'gender': np.random.choice(['F','M'], 10000, p=[0.52, 0.48]),\n",
    "'target': 0})\n",
    "df_t1 = pd.DataFrame({'gender': np.random.choice(['F','M'], 800, p=[0.42, 0.58]),\n",
    "'target': 1})\n",
    "df_train = pd.concat([df_t0, df_t1], axis=0)\n",
    "print(df_t0.shape)\n",
    "print(df_t1.shape)"
   ]
  },
  {
   "cell_type": "markdown",
   "id": "2bb42eb2-c233-44c1-90e8-44d75e7e5dc2",
   "metadata": {},
   "source": [
    "Print basic information"
   ]
  },
  {
   "cell_type": "code",
   "execution_count": 45,
   "id": "353944cf-f949-4a14-a869-a35a7a449d36",
   "metadata": {},
   "outputs": [],
   "source": [
    "def print_basic_stats(df, target_col, sensitive_attribute, text_header=''):\n",
    "    def get_basic_stats(df, target_col):\n",
    "        return df.shape[0], df[target_col].sum(), 100* df[target_col].sum() / df.shape[0]\n",
    "    n_tot, n_1, p_1 = get_basic_stats(df, target_col)\n",
    "    print(f'{text_header}: {p_1:.2f}% ({n_1:.0f}/{n_tot:.0f})')\n",
    "    text_header = f\"{text_header} \".lstrip()\n",
    "    for sens in np.sort(df[sensitive_attribute].unique()):\n",
    "        n_tot, n_1, p_1 = get_basic_stats(df.loc[df[sensitive_attribute]==sens, :], target_col)\n",
    "        print(f'{text_header}{sens}: {p_1:.2f}% ({n_1:.0f}/{n_tot:.0f})')"
   ]
  },
  {
   "cell_type": "code",
   "execution_count": 46,
   "id": "6c0d30cd-bcf2-4dfe-b7c0-31385e6711de",
   "metadata": {},
   "outputs": [
    {
     "name": "stdout",
     "output_type": "stream",
     "text": [
      "train set: 7.41% (800/10800)\n",
      "train set F: 6.81% (374/5488)\n",
      "train set M: 8.02% (426/5312)\n"
     ]
    }
   ],
   "source": [
    "sensitive_attribute = 'gender'\n",
    "sensitive_attribute_label = 'gender'\n",
    "\n",
    "print_basic_stats(df_train, 'target',  sensitive_attribute, 'train set')"
   ]
  },
  {
   "cell_type": "markdown",
   "id": "2a1589ee-83a3-4afd-8aa7-a2d5eac52ea5",
   "metadata": {},
   "source": [
    "Prepare data for plot"
   ]
  },
  {
   "cell_type": "code",
   "execution_count": 49,
   "id": "5db52ce6-dcdb-4ba5-94b3-4b22053032bd",
   "metadata": {},
   "outputs": [
    {
     "name": "stdout",
     "output_type": "stream",
     "text": [
      "order: ['F', 'M']\n",
      "qq:         volume  percentage\n",
      "gender                    \n",
      "F         5488   50.814815\n",
      "M         5312   49.185185\n"
     ]
    },
    {
     "data": {
      "text/html": [
       "<div>\n",
       "<style scoped>\n",
       "    .dataframe tbody tr th:only-of-type {\n",
       "        vertical-align: middle;\n",
       "    }\n",
       "\n",
       "    .dataframe tbody tr th {\n",
       "        vertical-align: top;\n",
       "    }\n",
       "\n",
       "    .dataframe thead th {\n",
       "        text-align: right;\n",
       "    }\n",
       "</style>\n",
       "<table border=\"1\" class=\"dataframe\">\n",
       "  <thead>\n",
       "    <tr style=\"text-align: right;\">\n",
       "      <th></th>\n",
       "      <th>gender</th>\n",
       "      <th>volume</th>\n",
       "      <th>percentage</th>\n",
       "      <th>n_target</th>\n",
       "      <th>target ratio</th>\n",
       "    </tr>\n",
       "  </thead>\n",
       "  <tbody>\n",
       "    <tr>\n",
       "      <th>0</th>\n",
       "      <td>F</td>\n",
       "      <td>5488</td>\n",
       "      <td>50.814815</td>\n",
       "      <td>374.0</td>\n",
       "      <td>6.814869</td>\n",
       "    </tr>\n",
       "    <tr>\n",
       "      <th>1</th>\n",
       "      <td>M</td>\n",
       "      <td>5312</td>\n",
       "      <td>49.185185</td>\n",
       "      <td>426.0</td>\n",
       "      <td>8.019578</td>\n",
       "    </tr>\n",
       "  </tbody>\n",
       "</table>\n",
       "</div>"
      ],
      "text/plain": [
       "  gender  volume  percentage  n_target  target ratio\n",
       "0      F    5488   50.814815     374.0      6.814869\n",
       "1      M    5312   49.185185     426.0      8.019578"
      ]
     },
     "execution_count": 49,
     "metadata": {},
     "output_type": "execute_result"
    }
   ],
   "source": [
    "dd = df_train\n",
    "order = df_train[sensitive_attribute].unique().tolist()\n",
    "qq = dd[sensitive_attribute].value_counts().rename(\"volume\").to_frame()\n",
    "qq['percentage'] = 100 * qq['volume'] / dd.shape[0]\n",
    "\n",
    "print(f\"order: {order}\")\n",
    "print(f\"qq: {qq}\")\n",
    "\n",
    "qq = qq.join(dd.groupby(sensitive_attribute).apply(\n",
    "    lambda x: pd.Series([x['target'].sum(), \n",
    "                         100 * x['target'].mean()], index=('n_target', 'target ratio'))))\n",
    "\n",
    "qq = qq.reset_index().rename(columns={'index': sensitive_attribute_label})\n",
    "qq"
   ]
  },
  {
   "cell_type": "markdown",
   "id": "5e1f30da-93f3-453f-9178-e566d0c39c65",
   "metadata": {},
   "source": [
    "Plot"
   ]
  },
  {
   "cell_type": "code",
   "execution_count": 56,
   "id": "c8beebcb-b64e-400b-a29a-53687129787a",
   "metadata": {},
   "outputs": [],
   "source": [
    "# Functions to change plot appearance\n",
    "\n",
    "def change_height(ax, new_value):\n",
    "    for patch in ax.patches:\n",
    "        current_height = patch.get_height()\n",
    "        diff = current_height - new_value\n",
    "        # we change the bar width\n",
    "        patch.set_height(new_value)\n",
    "        # we re-center the bar\n",
    "        patch.set_y(patch.get_y() + diff * .5)\n",
    "\n",
    "def show_values(axs, orient=\"v\", space=.01, decimals=1):\n",
    "    def _single(ax):\n",
    "        if orient == \"v\":\n",
    "            for p in ax.patches:\n",
    "                _x = p.get_x() + p.get_width() / 2\n",
    "                _y = pd.get_y() + p.get_height() + (p.get_height()*0.01)\n",
    "                value = (' {:.'+str(decimals)+'f} %').format(p.get_height())\n",
    "                ax.text(_x, _y, value, ha=\"center\")\n",
    "        elif orient == \"h\":\n",
    "            for p in ax.patches:\n",
    "                _x = p.get_x() + p.get_width() + float(space)\n",
    "                _y = p.get_y() + p.get_height() - (p.get_height() *.5)\n",
    "                value = (' {:.'+str(decimals)+'f} %').format(p.get_width())\n",
    "                ax.text(_x, _y, value, ha=\"left\")\n",
    "\n",
    "    if isinstance(axs, np.ndarray):\n",
    "        for idx, ax in np.ndenumerate(axs):\n",
    "            _single(ax)\n",
    "    else:\n",
    "        _single(axs)\n",
    "    "
   ]
  },
  {
   "cell_type": "code",
   "execution_count": 57,
   "id": "18291053-8105-413f-bc17-141b96290b6a",
   "metadata": {},
   "outputs": [
    {
     "data": {
      "image/png": "[encoded data removed]",
      "text/plain": [
       "<Figure size 800x220 with 2 Axes>"
      ]
     },
     "metadata": {},
     "output_type": "display_data"
    }
   ],
   "source": [
    "fig, axes = plt.subplots(1, 2, figsize= (8, 2.2))\n",
    "\n",
    "p1 = sns.barplot(ax=axes[0], y=sensitive_attribute_label, x=\"percentage\", data=qq, color='seagreen')\n",
    "axes[0].set_title('Volumes per '+ sensitive_attribute_label)\n",
    "axes[0].set_xlabel(None)\n",
    "\n",
    "p2 = sns.barplot(ax=axes[1], y=sensitive_attribute_label, x=\"target ratio\", data=qq, color='seagreen')\n",
    "axes[1].set_title('Target ratios per '+ sensitive_attribute_label)\n",
    "axes[1].set_xlabel(None)\n",
    "\n",
    "# make bars thiner\n",
    "change_height(axes[0], .5)\n",
    "change_height(axes[1], .5)\n",
    "\n",
    "# show values on barplot\n",
    "show_values(p1, \"h\", space=0)\n",
    "show_values(p2, \"h\", space=0)\n",
    "\n",
    "sns.despine(left=True, bottom=True)\n",
    "plt.tight_layout()"
   ]
  }
 ],
 "metadata": {
  "kernelspec": {
   "display_name": "Python 3 (ipykernel)",
   "language": "python",
   "name": "python3"
  },
  "language_info": {
   "codemirror_mode": {
    "name": "ipython",
    "version": 3
   },
   "file_extension": ".py",
   "mimetype": "text/x-python",
   "name": "python",
   "nbconvert_exporter": "python",
   "pygments_lexer": "ipython3",
   "version": "3.11.6"
  }
 },
 "nbformat": 4,
 "nbformat_minor": 5
}
