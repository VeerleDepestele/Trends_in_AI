{
 "cells": [
  {
   "cell_type": "code",
   "execution_count": 10,
   "id": "initial_id",
   "metadata": {
    "ExecuteTime": {
     "end_time": "2023-11-20T15:35:18.107567Z",
     "start_time": "2023-11-20T15:35:17.665207Z"
    }
   },
   "outputs": [],
   "source": [
    "import openai\n",
    "import os\n",
    "\n",
    "from dotenv import load_dotenv, find_dotenv\n",
    "_ = load_dotenv(find_dotenv())\n",
    "\n",
    "openai.api_key = os.getenv('OPENAI_API_KEY')\n",
    "edenai_api_key = os.getenv('EDENAI_API_KEY')\n",
    "huggingface_api_key = os.getenv('HF_TOKEN')\n",
    "openai.api_key  = os.getenv('OPENAI_API_KEY')\n",
    "\n",
    "# print(openai.api_key[0:2])\n",
    "# print(edenai_api_key[0:2])\n",
    "# print(huggingface_api_key[0:2])"
   ]
  },
  {
   "cell_type": "markdown",
   "id": "88c88e58a348b026",
   "metadata": {
    "collapsed": false,
    "jupyter": {
     "outputs_hidden": false
    }
   },
   "source": [
    "Als je de print commando's uitvoert, zou je de key(s) die je wilt gebruiken moeten zien, als je `None` ziet staan is er iets mis.\n",
    "\n",
    "De key van EdenAI is een Bearer token, daar kennen jullie alles van uit de Webservices cursus. Rechtstreeks de EdenAI API aanspreken doe je met een POST request naar de juiste url.\n",
    "EdenAI heeft véél endpoints, een ChatGPT request zou er als volgt uitzien:"
   ]
  },
  {
   "cell_type": "code",
   "execution_count": 42,
   "id": "7f9bdc0f515ebf93",
   "metadata": {
    "ExecuteTime": {
     "end_time": "2023-12-07T13:38:03.765429Z",
     "start_time": "2023-12-07T13:38:03.747267Z"
    },
    "collapsed": false,
    "jupyter": {
     "outputs_hidden": false
    }
   },
   "outputs": [],
   "source": [
    "from enum import Enum\n",
    "\n",
    "from langchain.llms import EdenAI, OpenAI\n",
    "from langchain.chat_models import ChatOpenAI\n",
    "\n",
    "from langchain.embeddings.edenai import EdenAiEmbeddings\n",
    "from langchain.embeddings import OpenAIEmbeddings\n",
    "\n",
    "class API(Enum):\n",
    "    OPEN_AI = 1\n",
    "    GPT4All = 2\n",
    "    EDEN_AI = 3\n",
    "    HUGGINGFACE = 4\n",
    "    \n",
    "\n",
    "def get_llm(which_model=API.OPEN_AI, temperature = 0.0):\n",
    "    if which_model == API.OPEN_AI:\n",
    "        # OpenAI heeft ook een ChatModel, maar dat is niet makkelijk transparent te gebruiken als je ook EdenAI wil gebruiken in dezelfde requests. Als je enkel met OpenAI wenst te werken is dit zeker een goede optie. Je zal dan wel het output formaat moeten aanpassen.\n",
    "        # return ChatOpenAI(temperature=temperature, model=\"gpt-3.5-turbo\")\n",
    "        return OpenAI(temperature=temperature)\n",
    "    elif which_model == API.EDEN_AI:\n",
    "        return EdenAI(edenai_api_key=edenai_api_key,provider=\"openai\", model=\"gpt-3.5-turbo-instruct\", temperature=temperature, max_tokens=250)\n",
    "    # elif which_model == API.HUGGINGFACE:\n",
    "    #     return InferenceClient(\"NousResearch/Hermes-3-Llama-3.1-8B\")\n",
    "        \n",
    "def get_embedding(which_model=API.OPEN_AI):\n",
    "    if which_model == API.OPEN_AI:\n",
    "        return OpenAIEmbeddings()\n",
    "    elif which_model == API.EDEN_AI:\n",
    "        return EdenAiEmbeddings(edenai_api_key=edenai_api_key,provider=\"openai\")\n",
    "    # elif which_modem == API.HUGGINGFACE:\n",
    "    #     client = InferenceClient(sentence-transformers/all-MiniLM-L6-v2\")\n",
    "    #     hf_token = os.getenv('HF_TOKEN')\n",
    "    #     api_url = f\"https://api-inference.huggingface.co/pipeline/feature-extraction/{model_id}\"\n",
    "    #     headers = {\"Authorization\": f\"Bearer {hf_token}\"}\n",
    "    #     response = requests.post(api_url, headers=headers, json={\"inputs\": texts, \"options\":{\"wait_for_model\":True}})\n",
    "    #     return response.json()\n",
    "\n",
    "# model_id = \"sentence-transformers/all-MiniLM-L6-v2\"\n",
    "# model_id = \"sentence-transformers/all-MiniLM-L12-v2\"\n",
    "# model_id = \"sentence-transformers/multi-qa-mpnet-base-dot-v1\"\n"
   ]
  },
  {
   "cell_type": "code",
   "execution_count": 48,
   "id": "57cb2863-e1ef-4e4f-b41d-b44ad523bc55",
   "metadata": {},
   "outputs": [],
   "source": [
    "#!pip install -U langchain-openai"
   ]
  },
  {
   "cell_type": "code",
   "execution_count": 49,
   "id": "278770d1-fa32-42f2-84b5-7a1fb1a3c759",
   "metadata": {},
   "outputs": [],
   "source": [
    "from langchain_openai import OpenAI"
   ]
  },
  {
   "cell_type": "code",
   "execution_count": 50,
   "id": "3afea169b09d5047",
   "metadata": {
    "ExecuteTime": {
     "end_time": "2023-12-07T13:38:05.733301Z",
     "start_time": "2023-12-07T13:38:05.709189Z"
    },
    "collapsed": false,
    "jupyter": {
     "outputs_hidden": false
    }
   },
   "outputs": [],
   "source": [
    "prefered_model = API.OPEN_AI\n",
    "# prefered_model = API.HUGGINGFACE\n",
    "# llm = get_llm(API.EDEN_AI, 0.0)\n",
    "# creative_llm = get_llm(API.EDEN_AI, 0.9)\n",
    "llm = get_llm(prefered_model, 0.0)\n",
    "creative_llm = get_llm(prefered_model, 0.9)\n",
    "embeddings = get_embedding(prefered_model)\n"
   ]
  },
  {
   "cell_type": "markdown",
   "id": "13dd0747ea16853",
   "metadata": {
    "collapsed": false,
    "jupyter": {
     "outputs_hidden": false
    }
   },
   "source": [
    "# Chat with your data\n",
    "\n",
    "![langchain](img/langchain.jpg)\n",
    "\n",
    "(image credit: langchain.com)\n"
   ]
  },
  {
   "cell_type": "markdown",
   "id": "9cd4052ba1bc7bec",
   "metadata": {
    "collapsed": false,
    "jupyter": {
     "outputs_hidden": false
    }
   },
   "source": [
    "## Document Loading\n",
    "\n",
    "Extra data kan in allerlei formaten voorkomen, PDF, JSON, tekst, ... en kan zowel gestructureerd of ongestructureerd zijn.\n",
    "\n",
    "Om dit te illustreren starten we met een PDF van \"The Little Book on Deep Learning\" (https://fleuret.org/public/lbdl.pdf), vooral omdat deze een creative commons license heeft."
   ]
  },
  {
   "cell_type": "code",
   "execution_count": null,
   "id": "331e1642-426f-4a6c-bda1-baf2565dc778",
   "metadata": {},
   "outputs": [],
   "source": [
    "# !pip install -qU pypdf\n",
    "# !pip install langchain_community"
   ]
  },
  {
   "cell_type": "code",
   "execution_count": 40,
   "id": "547e97a9e03d1c56",
   "metadata": {
    "ExecuteTime": {
     "end_time": "2023-11-15T10:14:13.297347Z",
     "start_time": "2023-11-15T10:14:11.452358Z"
    },
    "collapsed": false,
    "jupyter": {
     "outputs_hidden": false
    }
   },
   "outputs": [],
   "source": [
    "from langchain_community.document_loaders import PyPDFLoader\n",
    "\n",
    "loader = PyPDFLoader(\"data/lbdl.pdf\")\n",
    "pages = []\n",
    "async for page in loader.alazy_load():\n",
    "    pages.append(page)"
   ]
  },
  {
   "cell_type": "code",
   "execution_count": 14,
   "id": "7233034c74c88100",
   "metadata": {
    "ExecuteTime": {
     "end_time": "2023-11-15T10:14:15.329708Z",
     "start_time": "2023-11-15T10:14:15.326953Z"
    },
    "collapsed": false,
    "jupyter": {
     "outputs_hidden": false
    }
   },
   "outputs": [
    {
     "name": "stdout",
     "output_type": "stream",
     "text": [
      "1.3 Under and overfitting\n",
      "A key element is the interplay between the capac-\n",
      "ity of the model, that is its flexibility and ability\n",
      "to fit diverse data, and the amount and quality\n",
      "of the training data. When the capacity is insuf-\n",
      "ficient, the model cannot fit the data, resulting\n",
      "in a high error during training. This is referred\n",
      "to as underfitting.\n",
      "On the contrary, when the amount of data is in-\n",
      "sufficient, as illustrated in Figure 1.2, the model\n",
      "will often learn characteristics specific to the\n",
      "tra\n",
      "{'source': 'data/lbdl.pdf', 'page': 15}\n"
     ]
    }
   ],
   "source": [
    "print(pages[15].page_content[:500])\n",
    "print(pages[15].metadata)"
   ]
  },
  {
   "cell_type": "markdown",
   "id": "bdcea0c78ceb57da",
   "metadata": {
    "collapsed": false,
    "jupyter": {
     "outputs_hidden": false
    }
   },
   "source": [
    "### Youtube\n",
    "\n",
    "Maar je kan ook youtube video's als input nemen, we combineren de audio loader van youtube, and de OpenAI whisper parser, die samen een youtube video omzetten in een stuk tekst dat als bron kan dienen.\n",
    "(om dit te doen werken heb je ook ffmpeg nodig, MacOS/Linux: `brew/apt-get/... install ffmpeg`, Windows: downloaden en prutsen)\n",
    "\n"
   ]
  },
  {
   "cell_type": "code",
   "execution_count": 4,
   "id": "9acc799fcb9f167b",
   "metadata": {
    "ExecuteTime": {
     "end_time": "2023-10-25T14:46:20.584487Z",
     "start_time": "2023-10-25T14:46:20.580575Z"
    },
    "collapsed": false,
    "jupyter": {
     "outputs_hidden": false
    }
   },
   "outputs": [],
   "source": [
    "# yt_dlp heeft ffmpeg nodig; dus we zorgen dat het in het standaard path gevonden wordt\n",
    "# onderstaande paden zijn typisch voor MacOS homebrew, je zal ze waarschijnlijk moeten aanpassen naargelang je OS en waar je ffmpeg geïnstalleerd hebt\n",
    "import sys\n",
    "sys.path.append('/opt/homebrew/bin/ffmpeg')\n",
    "sys.path.append('/opt/homebrew/bin/ffprobe')"
   ]
  },
  {
   "cell_type": "code",
   "execution_count": 5,
   "id": "b5d313a207f81ba4",
   "metadata": {
    "ExecuteTime": {
     "end_time": "2023-10-25T14:46:22.715788Z",
     "start_time": "2023-10-25T14:46:22.664906Z"
    },
    "collapsed": false,
    "jupyter": {
     "outputs_hidden": false
    }
   },
   "outputs": [],
   "source": [
    "from langchain.document_loaders.generic import GenericLoader\n",
    "from langchain.document_loaders.parsers import OpenAIWhisperParser # enkel OpenAI\n",
    "from langchain.document_loaders.blob_loaders.youtube_audio import YoutubeAudioLoader"
   ]
  },
  {
   "cell_type": "code",
   "execution_count": 30,
   "id": "27ded5106e6dc3f3",
   "metadata": {
    "ExecuteTime": {
     "end_time": "2023-10-25T14:41:51.702463Z",
     "start_time": "2023-10-25T14:41:51.698361Z"
    },
    "collapsed": false,
    "jupyter": {
     "outputs_hidden": false
    }
   },
   "outputs": [
    {
     "data": {
      "text/plain": [
       "<Token var=<ContextVar name='ffmpeg_location' default=None at 0x177e5f510> at 0x28d1e3640>"
      ]
     },
     "execution_count": 30,
     "metadata": {},
     "output_type": "execute_result"
    }
   ],
   "source": [
    "\n",
    "# from yt_dlp.postprocessor import FFmpegPostProcessor\n",
    "# FFmpegPostProcessor._ffmpeg_location.set('/opt/homebrew/bin/')"
   ]
  },
  {
   "cell_type": "code",
   "execution_count": 7,
   "id": "72f0d507e6ad1683",
   "metadata": {
    "ExecuteTime": {
     "end_time": "2023-10-26T12:44:59.853540Z",
     "start_time": "2023-10-26T12:38:33.792892Z"
    },
    "collapsed": false,
    "jupyter": {
     "outputs_hidden": false
    }
   },
   "outputs": [
    {
     "name": "stdout",
     "output_type": "stream",
     "text": [
      "[youtube] Extracting URL: https://www.youtube.com/watch?v=TQQlZhbC5ps\n",
      "[youtube] TQQlZhbC5ps: Downloading webpage\n",
      "[youtube] TQQlZhbC5ps: Downloading ios player API JSON\n",
      "[youtube] TQQlZhbC5ps: Downloading android player API JSON\n",
      "[youtube] TQQlZhbC5ps: Downloading m3u8 information\n",
      "[info] TQQlZhbC5ps: Downloading 1 format(s): 140\n",
      "[download] Destination: data/youtube//Transformer Neural Networks - EXPLAINED! (Attention is all you need).m4a\n",
      "[download] 100% of   12.11MiB in 00:00:13 at 908.91KiB/s \n",
      "[FixupM4a] Correcting container of \"data/youtube//Transformer Neural Networks - EXPLAINED! (Attention is all you need).m4a\"\n",
      "[ExtractAudio] Not converting audio data/youtube//Transformer Neural Networks - EXPLAINED! (Attention is all you need).m4a; file is already in target format m4a\n",
      "Transcribing part 1!\n",
      "Transcribing part 1!\n",
      "Transcribing part 2!\n",
      "Transcribing part 3!\n",
      "Transcribing part 4!\n"
     ]
    },
    {
     "data": {
      "text/plain": [
       "'Recurrent neural nets, they are feed-forward neural networks rolled out over time. As such, they deal with sequence data, where the input has some defined ordering. This gives rise to several types of architectures. The first is vector-to-sequence models. These neural nets take in a fixed-size vector as input, and it outputs a sequence of any length. In image captioning, for example, the input can be a vector representation of an image, and the output, sequence, is a sentence that describes the '"
      ]
     },
     "execution_count": 7,
     "metadata": {},
     "output_type": "execute_result"
    }
   ],
   "source": [
    "# OPGELET\n",
    "#\n",
    "# dit deel uitvoeren duurt snel een aantal minuten; audio transcriben is ook relatief duur $0.006/min of dus $0.36 per uur\n",
    "# geen extreme bedragen, maar voer dit stuk code ook niet te vaak uit\n",
    "\n",
    "# Transformer Neural Networks van CodeEmporium\n",
    "url=\"https://www.youtube.com/watch?v=TQQlZhbC5ps\"\n",
    "\n",
    "save_dir=\"data/youtube/\"\n",
    "\n",
    "loader = GenericLoader(\n",
    "    YoutubeAudioLoader([url],save_dir),\n",
    "    OpenAIWhisperParser()\n",
    ")\n",
    "\n",
    "docs = loader.load()\n",
    "docs[0].page_content[0:500]"
   ]
  },
  {
   "cell_type": "markdown",
   "id": "a3168eea598d454d",
   "metadata": {
    "collapsed": false,
    "jupyter": {
     "outputs_hidden": false
    }
   },
   "source": [
    "### URL\n",
    "\n",
    "Je kan ook gewoon alle content van een url inladen, om dan met de data van een website te 'chatten'. De standaard `WebBaseLoader` kan HTML inlezen en beschikbaar maken, dit werkt wel enkel voor sites die niet JavaScript 'heavy' zijn. Om sites die dynamisch opgebouwd worden te kunnen laden heb je een headless browser nodig. Selenium, te gebruiken via `SeleniumURLLoader` is een optie. (hoewel die dingen niet altijd even perfect werken)   "
   ]
  },
  {
   "cell_type": "code",
   "execution_count": 45,
   "id": "fc34b27323ab7770",
   "metadata": {
    "ExecuteTime": {
     "end_time": "2023-11-15T19:23:50.236852Z",
     "start_time": "2023-11-15T19:23:50.053943Z"
    },
    "collapsed": false,
    "jupyter": {
     "outputs_hidden": false
    }
   },
   "outputs": [
    {
     "name": "stdout",
     "output_type": "stream",
     "text": [
      "class: dark middle\n",
      "\n",
      "# Enterprise Web Development C#\n",
      "> Chapter 3 - Solving The Problem Domain\n",
      "\n",
      "---\n",
      "### Chapter 3 - Solving The Problem Domain\n",
      "# Table of contents\n",
      "\n",
      "- [The Visual Studio Solution](#vs-solution)\n",
      "- [The sample application](#sample-application)\n",
      "- [Classes](#classes)\n",
      "- [Associations & collections](#associations)\n",
      "- [Inheritance](#inheritance)\n",
      "- [Polymorphism](#polymorphism)\n",
      "- [Abstract class](#abstract-class)\n",
      "- [Interface](#interface)\n",
      "- [Static members](#static-members)\n",
      "- [Domain Driven \n"
     ]
    }
   ],
   "source": [
    "\n",
    "from langchain.document_loaders import WebBaseLoader\n",
    "from langchain.document_loaders import SeleniumURLLoader\n",
    "loader = WebBaseLoader(\"https://raw.githubusercontent.com/HOGENT-Web/csharp/main/chapters/03/slides/presentation.md\")\n",
    "\n",
    "docs = loader.load()\n",
    "\n",
    "print(docs[0].page_content[:500])"
   ]
  },
  {
   "cell_type": "markdown",
   "id": "c85ac8f04fb21674",
   "metadata": {
    "collapsed": false,
    "jupyter": {
     "outputs_hidden": false
    }
   },
   "source": [
    "## Document Splitting\n",
    "\n",
    "We willen de tekst in stukken splitsen, maar dat is veel subtieler dan je zou denken. Je wilt de tekst semantisch splitsen, de stukken zullen later een vector encodering krijgen en gebruikt worden om vragen te beantwoorden. Simpel gezegd wil je bijvoorbeeld niet dat een zin half in één stuk zit, en half in een ander.\n",
    "\n",
    "Er zijn een aantal splitters voorzien in [langchain](https://python.langchain.com/docs/modules/data_connection/document_transformers/#text-splitters): `CharacterTextSplitter`, `MarkdownHeaderTextSplitter`, `TokenTextSplitter`, `RecursiveCharacterTextSplitter` enz."
   ]
  },
  {
   "cell_type": "code",
   "execution_count": 15,
   "id": "89a18302153960b3",
   "metadata": {
    "ExecuteTime": {
     "end_time": "2023-11-15T10:04:01.768854Z",
     "start_time": "2023-11-15T10:04:01.760972Z"
    },
    "collapsed": false,
    "jupyter": {
     "outputs_hidden": false
    }
   },
   "outputs": [],
   "source": [
    "\n",
    "from langchain.text_splitter import RecursiveCharacterTextSplitter, CharacterTextSplitter\n",
    "\n",
    "# de grootte van een stuk\n",
    "chunk_size = 26\n",
    "# overlap tussen stukken\n",
    "chunk_overlap = 4\n",
    "\n",
    "c_splitter = CharacterTextSplitter(\n",
    "    chunk_size=chunk_size,\n",
    "    chunk_overlap=chunk_overlap,\n",
    ")\n"
   ]
  },
  {
   "cell_type": "code",
   "execution_count": 16,
   "id": "dfa420a19b48476b",
   "metadata": {
    "ExecuteTime": {
     "end_time": "2023-11-15T10:04:07.611116Z",
     "start_time": "2023-11-15T10:04:07.604058Z"
    },
    "collapsed": false,
    "jupyter": {
     "outputs_hidden": false
    }
   },
   "outputs": [
    {
     "data": {
      "text/plain": [
       "['abcdefghijklmnopqrstuvwxyz']"
      ]
     },
     "execution_count": 16,
     "metadata": {},
     "output_type": "execute_result"
    }
   ],
   "source": [
    "# past net in één stuk, dus de splitter doet sowieso niets\n",
    "text1 = 'abcdefghijklmnopqrstuvwxyz'\n",
    "c_splitter.split_text(text1)"
   ]
  },
  {
   "cell_type": "code",
   "execution_count": 17,
   "id": "4442fd348ca5c8f6",
   "metadata": {
    "ExecuteTime": {
     "end_time": "2023-11-15T10:08:28.737511Z",
     "start_time": "2023-11-15T10:08:28.734700Z"
    },
    "collapsed": false,
    "jupyter": {
     "outputs_hidden": false
    }
   },
   "outputs": [
    {
     "data": {
      "text/plain": [
       "['a b c d e f g h i j k l m n o p q r s t u v w x y z']"
      ]
     },
     "execution_count": 17,
     "metadata": {},
     "output_type": "execute_result"
    }
   ],
   "source": [
    "# we voegen spaties toe om de tekst dubbel zo lang te maken\n",
    "text1 = 'a b c d e f g h i j k l m n o p q r s t u v w x y z'\n",
    "c_splitter.split_text(text1)"
   ]
  },
  {
   "cell_type": "markdown",
   "id": "ab9e9d65be61ff2e",
   "metadata": {
    "collapsed": false,
    "jupyter": {
     "outputs_hidden": false
    }
   },
   "source": [
    "De `CharacterTextSplitter` doet ogenschijnlijk niets, dit komt omdat er gesplitst wordt op basis van een specifiek character (standaard een newline), en dus zal een text zonder newlines niet gesplitst worden \n"
   ]
  },
  {
   "cell_type": "code",
   "execution_count": 18,
   "id": "497b4796b7ce716e",
   "metadata": {
    "ExecuteTime": {
     "end_time": "2023-11-15T10:08:48.722776Z",
     "start_time": "2023-11-15T10:08:48.715814Z"
    },
    "collapsed": false,
    "jupyter": {
     "outputs_hidden": false
    }
   },
   "outputs": [
    {
     "data": {
      "text/plain": [
       "['a b c d e f g h i j k l m', 'l m n o p q r s t u v w x', 'w x y z']"
      ]
     },
     "execution_count": 18,
     "metadata": {},
     "output_type": "execute_result"
    }
   ],
   "source": [
    "c_splitter = CharacterTextSplitter(\n",
    "    chunk_size=chunk_size,\n",
    "    chunk_overlap=chunk_overlap,\n",
    "    separator=' ' # default, hier expliciet meegegeven\n",
    ")\n",
    "text1 = 'a b c d e f g h i j k l m n o p q r s t u v w x y z'\n",
    "c_splitter.split_text(text1)"
   ]
  },
  {
   "cell_type": "markdown",
   "id": "a5e8627e35b803cd",
   "metadata": {
    "collapsed": false,
    "jupyter": {
     "outputs_hidden": false
    }
   },
   "source": [
    "In de praktijk is deze splitter dus niet zo handig, je wilt liefst zo semantisch mogelijk splitsen (per paragraaf of zin) en pas als die paragrafen / zinnen te lang worden, op basis van een ander character.\n",
    "\n",
    "Daartoe dient de `RecursiveCharacterTextSplitter`, i.p.v. één separator character te gebruiken, geef je een lijst van separators mee, er zal eerst gesplitst worden volgens het eerste character, als de stukken dan nog te lang zijn opnieuw via de tweede, enz.\n",
    "Tot er geen separators meer over zijn of elk stuk klein genoeg geworden is "
   ]
  },
  {
   "cell_type": "code",
   "execution_count": 19,
   "id": "8499b52ced99819c",
   "metadata": {
    "ExecuteTime": {
     "end_time": "2023-11-15T10:08:52.331177Z",
     "start_time": "2023-11-15T10:08:52.324073Z"
    },
    "collapsed": false,
    "jupyter": {
     "outputs_hidden": false
    }
   },
   "outputs": [],
   "source": [
    "r_splitter = RecursiveCharacterTextSplitter(\n",
    "    chunk_size=chunk_size,\n",
    "    chunk_overlap=chunk_overlap,\n",
    "    separators=[\"\\n\\n\", \"\\n\", \" \", \"\"] # default, dus eerst per paragraaf, dan per zin, dan per woord, dan gewoon op character\n",
    ")\n"
   ]
  },
  {
   "cell_type": "code",
   "execution_count": 20,
   "id": "1fc4c02af4e2fb99",
   "metadata": {
    "ExecuteTime": {
     "end_time": "2023-11-15T10:08:57.932959Z",
     "start_time": "2023-11-15T10:08:57.925884Z"
    },
    "collapsed": false,
    "jupyter": {
     "outputs_hidden": false
    }
   },
   "outputs": [
    {
     "data": {
      "text/plain": [
       "['a b c d e f g h i j k l m', 'l m n o p q r s t u v w x', 'w x y z']"
      ]
     },
     "execution_count": 20,
     "metadata": {},
     "output_type": "execute_result"
    }
   ],
   "source": [
    "# als enkel een spatie als separator voorkomt, gedraagt het zich dus identiek aan de `CharacterTextSplitter`\n",
    "text1 = 'a b c d e f g h i j k l m n o p q r s t u v w x y z'\n",
    "r_splitter.split_text(text1)"
   ]
  },
  {
   "cell_type": "code",
   "execution_count": 21,
   "id": "d15acaed21ba04f7",
   "metadata": {
    "ExecuteTime": {
     "end_time": "2023-11-15T10:15:55.776103Z",
     "start_time": "2023-11-15T10:15:55.768806Z"
    },
    "collapsed": false,
    "jupyter": {
     "outputs_hidden": false
    }
   },
   "outputs": [
    {
     "name": "stdout",
     "output_type": "stream",
     "text": [
      "1.3 Under and overfitting\n",
      "A key element is the interplay between the capac-\n",
      "ity of the model, that is its flexibility and ability\n",
      "to fit diverse data, and the amount and quality\n",
      "of the training data. When the capacity is insuf-\n",
      "ficient, the model cannot fit the data, resulting\n",
      "in a high error during training. This is referred\n",
      "to as underfitting.\n",
      "On the contrary, when the amount of data is in-\n",
      "sufficient, as illustrated in Figure 1.2, the model\n",
      "will often learn characteristics specific to the\n",
      "training examples, resulting in excellent perfor-\n",
      "mance during training, at the cost of a worse\n",
      "Figure 1.2: If the amount of training data (black dots)\n",
      "is small compared to the capacity of the model, the\n"
     ]
    }
   ],
   "source": [
    "# we illustreren met een realistisch stuk tekst\n",
    "text2 = pages[15].page_content[:700]\n",
    "print(text2)"
   ]
  },
  {
   "cell_type": "code",
   "execution_count": 22,
   "id": "3584f1b8943285c",
   "metadata": {
    "ExecuteTime": {
     "end_time": "2023-11-15T10:19:44.271097Z",
     "start_time": "2023-11-15T10:19:44.267547Z"
    },
    "collapsed": false,
    "jupyter": {
     "outputs_hidden": false
    }
   },
   "outputs": [
    {
     "data": {
      "text/plain": [
       "['1.3 Under and overfitting\\nA key element is the interplay between the capac-\\nity of the model, that is its flexibility and ability\\nto fit diverse data,',\n",
       " 'and the amount and quality\\nof the training data. When the capacity is insuf-\\nficient, the model cannot fit the data, resulting\\nin a high error during',\n",
       " 'training. This is referred\\nto as underfitting.\\nOn the contrary, when the amount of data is in-\\nsufficient, as illustrated in Figure 1.2, the',\n",
       " 'model\\nwill often learn characteristics specific to the\\ntraining examples, resulting in excellent perfor-\\nmance during training, at the cost of a',\n",
       " 'worse\\nFigure 1.2: If the amount of training data (black dots)\\nis small compared to the capacity of the model, the']"
      ]
     },
     "execution_count": 22,
     "metadata": {},
     "output_type": "execute_result"
    }
   ],
   "source": [
    "chunk_size = 150\n",
    "chunk_overlap = 0\n",
    "c_splitter = CharacterTextSplitter(chunk_size=chunk_size, chunk_overlap=chunk_overlap, separator=' ')\n",
    "r_splitter = RecursiveCharacterTextSplitter(\n",
    "    chunk_size=chunk_size,\n",
    "    chunk_overlap=chunk_overlap\n",
    ")\n",
    "\n",
    "c_splitter.split_text(text2)"
   ]
  },
  {
   "cell_type": "code",
   "execution_count": 23,
   "id": "a1a24a92f23eb2bf",
   "metadata": {
    "ExecuteTime": {
     "end_time": "2023-11-15T10:19:22.468322Z",
     "start_time": "2023-11-15T10:19:22.464633Z"
    },
    "collapsed": false,
    "jupyter": {
     "outputs_hidden": false
    }
   },
   "outputs": [
    {
     "data": {
      "text/plain": [
       "['1.3 Under and overfitting\\nA key element is the interplay between the capac-\\nity of the model, that is its flexibility and ability',\n",
       " 'to fit diverse data, and the amount and quality\\nof the training data. When the capacity is insuf-\\nficient, the model cannot fit the data, resulting',\n",
       " 'in a high error during training. This is referred\\nto as underfitting.\\nOn the contrary, when the amount of data is in-',\n",
       " 'sufficient, as illustrated in Figure 1.2, the model\\nwill often learn characteristics specific to the',\n",
       " 'training examples, resulting in excellent perfor-\\nmance during training, at the cost of a worse',\n",
       " 'Figure 1.2: If the amount of training data (black dots)\\nis small compared to the capacity of the model, the']"
      ]
     },
     "execution_count": 23,
     "metadata": {},
     "output_type": "execute_result"
    }
   ],
   "source": [
    "# soms iets kleinere stukken nemen, maar gesplitst op basis van een newline, geef betere resultaten\n",
    "r_splitter.split_text(text2)"
   ]
  },
  {
   "cell_type": "code",
   "execution_count": 24,
   "id": "1257b6054241ef53",
   "metadata": {
    "ExecuteTime": {
     "end_time": "2023-11-15T10:57:53.610304Z",
     "start_time": "2023-11-15T10:57:53.605997Z"
    },
    "collapsed": false,
    "jupyter": {
     "outputs_hidden": false
    }
   },
   "outputs": [],
   "source": [
    "# nu toegepast op het volledig document\n",
    "r_splitter = RecursiveCharacterTextSplitter(\n",
    "    chunk_size=1000,\n",
    "    chunk_overlap=100\n",
    ")\n",
    "split_pages = r_splitter.split_documents(pages)\n"
   ]
  },
  {
   "cell_type": "code",
   "execution_count": 25,
   "id": "aa3d0593866d097d",
   "metadata": {
    "ExecuteTime": {
     "end_time": "2023-11-15T10:58:17.106746Z",
     "start_time": "2023-11-15T10:58:17.099095Z"
    },
    "collapsed": false,
    "jupyter": {
     "outputs_hidden": false
    }
   },
   "outputs": [
    {
     "name": "stdout",
     "output_type": "stream",
     "text": [
      "215\n",
      "168\n"
     ]
    }
   ],
   "source": [
    "print(len(split_pages))\n",
    "print(len(pages))"
   ]
  },
  {
   "cell_type": "markdown",
   "id": "7bafc82c6a4e4272",
   "metadata": {
    "collapsed": false,
    "jupyter": {
     "outputs_hidden": false
    }
   },
   "source": [
    "Een andere manier is om te splitsen op basis van tokens. Dit is belangrijk als we met LLM's werken, die een context hebben die beperkt is tot een aantal tokens"
   ]
  },
  {
   "cell_type": "code",
   "execution_count": 26,
   "id": "d3b15e6fe6b211d7",
   "metadata": {
    "ExecuteTime": {
     "end_time": "2023-11-15T11:00:36.249763Z",
     "start_time": "2023-11-15T11:00:33.480230Z"
    },
    "collapsed": false,
    "jupyter": {
     "outputs_hidden": false
    }
   },
   "outputs": [],
   "source": [
    "from langchain.text_splitter import TokenTextSplitter\n",
    "t_splitter = TokenTextSplitter(chunk_size=1, chunk_overlap=0)"
   ]
  },
  {
   "cell_type": "code",
   "execution_count": 38,
   "id": "3da0ddb7e0d9f2ed",
   "metadata": {
    "ExecuteTime": {
     "end_time": "2023-11-15T11:01:07.116820Z",
     "start_time": "2023-11-15T11:01:07.109146Z"
    },
    "collapsed": false,
    "jupyter": {
     "outputs_hidden": false
    }
   },
   "outputs": [
    {
     "data": {
      "text/plain": [
       "['D', 'it', ' is', ' bel', 'ang', 'ri', 'j', 'k']"
      ]
     },
     "execution_count": 38,
     "metadata": {},
     "output_type": "execute_result"
    }
   ],
   "source": [
    "text1 = \"Dit is belangrijk\"\n",
    "t_splitter.split_text(text1)"
   ]
  },
  {
   "cell_type": "markdown",
   "id": "5f689ad468cf2be6",
   "metadata": {
    "collapsed": false,
    "jupyter": {
     "outputs_hidden": false
    }
   },
   "source": [
    "Voor markdown files gebruiken we best de `MarkdownHeaderTextSplitter`, zoals de naam suggereert worden markdown files gesplitst op basis van de headers, en de informatie uit die headers komt dan in de metadata terecht."
   ]
  },
  {
   "cell_type": "code",
   "execution_count": 32,
   "id": "94c5b963e3ae0668",
   "metadata": {
    "ExecuteTime": {
     "end_time": "2023-11-16T12:32:09.803649Z",
     "start_time": "2023-11-16T12:32:09.229054Z"
    },
    "collapsed": false,
    "jupyter": {
     "outputs_hidden": false
    }
   },
   "outputs": [],
   "source": [
    "from langchain.text_splitter import MarkdownHeaderTextSplitter\n",
    "from langchain.document_loaders import WebBaseLoader\n",
    "\n",
    "m_splitter = MarkdownHeaderTextSplitter(headers_to_split_on=[(\"#\", \"header 1\"), (\"##\", \"header 2\")])\n",
    "\n",
    "# loader = WebBaseLoader(\"https://raw.githubusercontent.com/HOGENT-Web/csharp/main/chapters/03/slides/presentation.md\")\n",
    "loader = WebBaseLoader(\"https://github.com/VeerleDepestele/Trends_in_AI/blob/master/les3_0_quantization.md\")\n",
    "markdown_doc = loader.load()\n",
    "\n",
    "# print(markdown_doc[0].page_content[:500])\n",
    "\n",
    "m_split_text = m_splitter.split_text(markdown_doc[0].page_content)\n",
    "# print (m_split_text[0])\n",
    "# print (m_split_text[0].metadata)\n"
   ]
  },
  {
   "cell_type": "markdown",
   "id": "dcc24accd63123f7",
   "metadata": {
    "collapsed": false,
    "jupyter": {
     "outputs_hidden": false
    }
   },
   "source": [
    "### vectorstores\n",
    "\n",
    "De volgende stap is al deze chunks in een vectorstore op te slaan, zodat we snel en makkelijk 'gelijkaardige' content kunnen terugvinden (die we dan samen met onze vraag naar een LLM doorsturen, maar dat komt later)\n",
    "\n",
    "We dienen eerste vector embeddings te creëren, vector voorstellingen van onze stukken tekst, hiervoor gebruiken we OpenAI"
   ]
  },
  {
   "cell_type": "code",
   "execution_count": 64,
   "id": "3b17c9f5f87141dc",
   "metadata": {
    "ExecuteTime": {
     "end_time": "2023-11-15T19:44:28.705077Z",
     "start_time": "2023-11-15T19:44:27.687901Z"
    },
    "collapsed": false,
    "jupyter": {
     "outputs_hidden": false
    }
   },
   "outputs": [
    {
     "name": "stdout",
     "output_type": "stream",
     "text": [
      "0.903618173120376\n",
      "0.7657950951685688\n",
      "0.7552190470689308\n"
     ]
    }
   ],
   "source": [
    "# klein voorbeeld om te tonen dat gelijkaardige tekst tot gelijkaardige embeddings leidt. \n",
    "\n",
    "embedding1 = embeddings.embed_query(\"De student dronk iets te veel op de cantus\")\n",
    "embedding2 = embeddings.embed_query(\"De student drinkt graag bier op feestjes\")\n",
    "embedding3 = embeddings.embed_query(\"A completely different piece of text about a man who's working very hard on course material\")\n",
    "\n",
    "# print(embedding1)\n",
    "# print(embedding2)\n",
    "# print(embedding3)\n",
    "\n",
    "# het dot product geeft aan in hoeverre twee vectoren in dezelfde richting 'wijzen'\n",
    "# m.a.w. hoe groter het dot product, hoe gelijkaardiger twee vectoren zijn\n",
    "import numpy as np\n",
    "\n",
    "print(np.dot(embedding1, embedding2))\n",
    "print(np.dot(embedding1, embedding3))\n",
    "print(np.dot(embedding2, embedding3))\n"
   ]
  },
  {
   "cell_type": "markdown",
   "id": "7ad414706c2d9631",
   "metadata": {
    "collapsed": false,
    "jupyter": {
     "outputs_hidden": false
    }
   },
   "source": [
    "### Chroma\n",
    "\n",
    "Chroma is een vectorstore die volledig in het geheugen draait, ideaal om snel wat code te runnen (en te demonstreren hier), voor grotere toepassingen bestaan er veel gehoste oplossing ook, langchain heeft bindings voor de meest courant gebruikte."
   ]
  },
  {
   "cell_type": "code",
   "execution_count": 51,
   "id": "e4c2fe9a6413462c",
   "metadata": {
    "ExecuteTime": {
     "end_time": "2023-11-15T19:58:36.387357Z",
     "start_time": "2023-11-15T19:58:36.378566Z"
    },
    "collapsed": false,
    "jupyter": {
     "outputs_hidden": false
    }
   },
   "outputs": [
    {
     "name": "stdout",
     "output_type": "stream",
     "text": [
      "(texts: 'List[str]', chunk_size: 'Optional[int]' = 0) -> 'List[List[float]]'\n"
     ]
    }
   ],
   "source": [
    "from inspect import signature\n",
    "\n",
    "t = signature(embeddings.embed_documents)\n",
    "print (t)"
   ]
  },
  {
   "cell_type": "code",
   "execution_count": 61,
   "id": "aec8ffb7-04a5-4944-aae8-513adddfb5e8",
   "metadata": {},
   "outputs": [],
   "source": [
    "# !pip install chromadb\n",
    "# !pip install -qU \"langchain-chroma>=0.1.2\""
   ]
  },
  {
   "cell_type": "code",
   "execution_count": 62,
   "id": "e68ce384-e94d-40c1-8ffc-cbebfb3fc372",
   "metadata": {},
   "outputs": [],
   "source": [
    "from langchain_chroma import Chroma\n",
    "\n",
    "chroma_dir = \"data/chroma/\"\n",
    "\n",
    "vector_store = Chroma(\n",
    "    collection_name=\"example_collection\",\n",
    "    embedding_function=embeddings,\n",
    "    persist_directory=chroma_dir,  # Where to save data locally, remove if not necessary\n",
    ")"
   ]
  },
  {
   "cell_type": "code",
   "execution_count": 63,
   "id": "62e25ae5-cab1-4958-8448-e3c72eb65381",
   "metadata": {},
   "outputs": [],
   "source": [
    "from uuid import uuid4\n",
    "\n",
    "from langchain_core.documents import Document"
   ]
  },
  {
   "cell_type": "code",
   "execution_count": 75,
   "id": "63b34707-e3b7-48ed-ab95-c8ad7cf59ba2",
   "metadata": {},
   "outputs": [
    {
     "data": {
      "text/plain": [
       "['48ecd4d6-8ca3-48a4-89f4-f32366da5620',\n",
       " '5aa1f3d4-7f23-421c-94fd-3897913c3bd6',\n",
       " 'edf55386-4be9-406c-9ff2-a736bb15be41',\n",
       " '4247a9b9-216f-40d3-b7b7-ccf7c801aeba',\n",
       " 'e8e228fd-228a-4400-afd7-db880367390a',\n",
       " '7b51eec8-e17e-4bd8-8395-d6e0723617cf',\n",
       " 'dcad173a-b691-47b8-9c48-fc264cec7902',\n",
       " '61b4be47-2b3d-4cfc-afa8-d899a8888e0a',\n",
       " 'e1515f1d-85d8-457f-9997-34d81b9d6843',\n",
       " '1da8819c-8133-4a76-b478-c0287ac6d551',\n",
       " 'b134b77a-d4f0-427d-8e1b-2727cb98ec4d',\n",
       " 'b5217b26-eff1-4e89-ad71-79cd6410dad1',\n",
       " '882b54fd-1ca7-4c16-a7ac-f6fb0396ca7e',\n",
       " 'e02310df-4f6f-40d3-bfff-b47efaf7e08c',\n",
       " 'b8a9c03f-a39f-4025-aa7f-b5e8a88b176e',\n",
       " 'b9ea84b5-1b9c-4453-8e6e-e4bbca599a35',\n",
       " '5a4686f9-35de-4343-86ec-8837e93bb394',\n",
       " '316bfe5b-192b-4a5b-a344-fe9f6327adab',\n",
       " 'f992f6ea-97d8-46e5-9640-0ad2a99fe49f',\n",
       " '8b680c9e-4e1b-4a31-8fa6-6a8520797865',\n",
       " '88b4d2f0-e0c9-4330-8783-57d5cd1a192d',\n",
       " '191b1ebb-edbb-4cde-922a-c6e9378f0fbd',\n",
       " '64edff38-72af-4ec8-8297-bfe920efcf5a',\n",
       " 'a0de31cf-756a-4a2d-96ad-05a6ef4f55e9',\n",
       " '63ea9d03-aa0f-44f6-82a9-ef46cd26dc48',\n",
       " 'b7ae790e-3151-40ab-b21c-9bd149936f59',\n",
       " 'cd7add3d-ae40-4c0f-950c-4dded2d9447c',\n",
       " '5099805b-f66a-4d16-8ea8-1cabd32c64e6',\n",
       " '38206514-ebe8-48da-8b9a-3736aeb32e2b',\n",
       " 'e22514c3-ae8b-422b-9574-85f100e96b08',\n",
       " '60febfdf-33a3-4a1c-9611-c1c49e521582',\n",
       " '50e67dc5-d0c3-4ee3-8f1a-64956c4d40bc',\n",
       " 'e6b6e5be-dfbe-40b5-997c-c105a485d507',\n",
       " 'd5b45c17-4726-409b-8ecf-354fd99da5e0',\n",
       " '172ee1cb-3d87-4064-ba70-65d2ddb41c84',\n",
       " '614f0567-b9a2-4439-ac0e-6249ae1d13ef',\n",
       " '7c842f3b-4a95-43cb-b8d9-eadba8a77126',\n",
       " '17079ac3-4164-4fc0-b2c5-03b6229dabb2',\n",
       " 'dafef8e9-1062-497c-a0e2-a144f3958587',\n",
       " '07a31571-262d-4a72-b69f-2e13a90c600b',\n",
       " '808dd314-fa47-488d-a476-105ead6988b5',\n",
       " 'a868dc0b-2d4a-4e09-8530-4e8241b28ea3',\n",
       " 'c6e30dd3-8db6-480b-9248-00ff6268af3e',\n",
       " '0e6e59ab-7f72-4895-9c3e-7cdb003d8102',\n",
       " 'd08a946e-aa6c-43fc-b782-32c7b825dcfd',\n",
       " '42c29032-f40e-49cd-816b-12cf5c82d588',\n",
       " '643553ba-5aeb-4a4f-bb0a-0a62809daa41',\n",
       " '7e7ae91a-36ac-4143-b88a-24b44f2fd9f2',\n",
       " 'a790d475-e43d-4251-a7ad-1766b0a87421',\n",
       " 'ae0d0771-7a09-4ee4-a7b6-c07edf0cd189',\n",
       " '8a07f299-ac82-4fb7-93ec-0e6020a4a919',\n",
       " 'cbaad208-0faa-4718-8ed8-92605d261dbb',\n",
       " '153c30ed-2ceb-4f67-9590-4c144922b8a0',\n",
       " '5b679813-1795-4117-9743-0360c1b8ba76',\n",
       " 'fc092cc4-fa0f-48c7-87fb-2b1483412585',\n",
       " 'c921a09a-2c5d-47bf-80e8-22a068def5fe',\n",
       " '2117a14a-1183-4c20-9516-60cc7d659f30',\n",
       " '6c31a1a8-8ff8-4788-9324-6188dae4f785',\n",
       " '6d4fd176-83d0-4469-8c01-0909855750e7',\n",
       " '91df64a3-53a5-4994-9758-32005a5340a8',\n",
       " 'c0f1c32d-57aa-4d54-9e39-1e19036a1550',\n",
       " 'af5619c6-939a-420c-9e72-fc645aae9adc',\n",
       " 'cf39f2db-5e2d-406f-9cd1-9b9b9fb60c7a',\n",
       " '29f4b444-2b15-400e-9181-519eb364b7d5',\n",
       " 'fbecf00d-c25f-4203-b9f8-240bc350f7d6',\n",
       " '5e98a34e-9a52-4c9f-be3d-6570eae75b3a',\n",
       " '0b5b6106-0d88-4113-8122-bbeba564b3f2',\n",
       " '6c74fe25-d5f2-41ca-ba98-22503003c31e',\n",
       " '5c05413b-6a8c-42d3-8879-327f9a23b3a5',\n",
       " '06e3e09f-69d2-4cb9-9865-5ed6678895a9',\n",
       " '1755f782-bb90-43a5-8f3c-4c141237bf62',\n",
       " '54b24547-0177-4e15-9251-a192d69cf510',\n",
       " 'a3a39307-afc0-4327-86c5-8905335c2b4a',\n",
       " '0d0df5ce-a6af-4134-a643-459a8f14920b',\n",
       " '65d35f6a-772f-491c-90b1-26b541d29424',\n",
       " '5591d768-1ccd-48e3-a856-6228b1f24603',\n",
       " 'b1d9e370-9aa3-4386-9e9c-7b14edaa35a1',\n",
       " '240ef6d9-b873-4e08-affe-f07c696dcc8a',\n",
       " 'dbe1cbe4-1c3b-44f2-817e-dd94433c2bd8',\n",
       " '9d05f316-81e2-4213-8312-30147dfdb2e0',\n",
       " 'f04d346d-077f-4c22-8ceb-391bbaa54bf3',\n",
       " 'e6df7a2b-ae95-4c30-954c-a83837290d41',\n",
       " '201f88f5-9ec3-4ff8-ad3b-d2c39f7bab77',\n",
       " '2c3e27e7-6dc2-4e50-a790-2750d804f2b9',\n",
       " 'd1d82786-f7ce-42e3-bca1-548e8321ab42',\n",
       " '6469a803-1fb6-42e7-9ede-c0ab63da6d3c',\n",
       " '347425b1-95df-4ade-a35f-69d1f4f52d39',\n",
       " '305ad2bc-eb9f-49ca-8fc5-6044e9cacc23',\n",
       " '5b8ba5a6-7b78-4589-afb6-17e7b6e1d341',\n",
       " '8da1138c-61f8-4d91-b9c1-658da95a4bb8',\n",
       " 'ac9ec185-fbbb-4831-8a03-2e4814a2b512',\n",
       " 'a0f9d0fd-7734-4f42-a8f5-6c3ef91d6bbc',\n",
       " 'f694c451-66df-453f-b7d8-4d2dd881b9e0',\n",
       " 'da303c9e-f07d-425b-96f2-6e5c34d88b4a',\n",
       " 'f9bfcfd3-2cfb-4f7c-ac5c-561c9c1ad8d6',\n",
       " 'db462c87-5b15-44ef-bcdc-666a9e9e8a5d',\n",
       " 'f1c151f5-bbb9-44e9-b0fd-34f3018a0e1f',\n",
       " 'ef881c7c-d64b-469a-98f7-dac8e5087808',\n",
       " 'd2bf9a6c-532d-480d-ba47-707a52f9a81c',\n",
       " '95269f81-222b-425c-9395-fb930dec371c',\n",
       " '2b515faa-a515-4c51-a28c-317d1df02dd4',\n",
       " 'd3ef9f20-ae04-4887-93c2-3bfbd56798cd',\n",
       " 'b06abf28-7d48-4856-b25c-90ea19dbc7da',\n",
       " 'c1883893-3c69-4185-bc4e-5e17ea2d6407',\n",
       " 'fee70345-fc48-498e-9e2c-c419af0e76b3',\n",
       " '6c227e9b-cca5-4a1f-8ae2-ed8e04f079bd',\n",
       " 'cfea9cba-5b56-474e-b863-35b7cd6c840b',\n",
       " 'd24b6ee7-7ece-46ea-b7ca-fa48de3eb13f',\n",
       " 'cf6cdcb0-1e67-4e17-a061-641e0907d072',\n",
       " '1a88dfb3-07ba-471c-a766-9a7627cbae24',\n",
       " '20e8b4db-10c0-4ff3-b258-c370e3843cef',\n",
       " '9e82d8f2-2c8b-48dc-b260-607a51ac6301',\n",
       " 'd9950acd-4c8c-4993-b8db-158fe532c1e9',\n",
       " '1e7dc1e2-1597-4050-84ca-c547b53e3852',\n",
       " '066ec7ad-b1fb-47b0-ae07-dbed84ef4a1d',\n",
       " 'b2b1be41-4013-4428-aa7f-a20a92e43ebb',\n",
       " 'ebd95257-962f-410c-ac0b-74346ace1af4',\n",
       " 'b832d905-9e2e-4ac7-836b-c6d18bce5b17',\n",
       " '348694db-5af0-420f-9868-7f6378ad4def',\n",
       " '36395b2f-dd08-4fab-94ea-281122d58a0d',\n",
       " '5bbf7238-0b84-4a46-8a88-a6468dcb2f6a',\n",
       " 'af61d2bd-2724-40a6-af36-3925ef009950',\n",
       " 'e114caf1-80a7-4523-a753-fa0fc39afad6',\n",
       " '6d073c18-bbc1-4867-af47-bb0f54576e71',\n",
       " '5e91a0ed-945a-4d98-a760-59e6dc250b17',\n",
       " '6eb34051-6f7c-48a3-aa54-89e3a59178af',\n",
       " '7bf044d8-811c-4d87-b51b-cad74fc69e6e',\n",
       " 'b1b96b55-1565-4b29-a0a9-207748076bb1',\n",
       " 'f29ce033-8760-4ad9-a554-ffa8103f7d4f',\n",
       " '08104810-0c7b-427f-8c9c-602480545751',\n",
       " 'c08a61ae-78ea-4288-ba21-a74fbb58dcb0',\n",
       " '7097e6af-cefc-4968-affa-6c82d0deec80',\n",
       " 'a0888e98-7ac5-4719-9c77-7e97a7c6a893',\n",
       " '0befad5a-5ac3-4123-a145-3752ccfa8d28',\n",
       " 'b1efc30e-310a-4be6-975e-30fcea5b72f6',\n",
       " 'e29e44a5-f526-40de-b63e-380341b727f6',\n",
       " '958008e8-f59f-4241-b7ef-d73ea2f5c8ca',\n",
       " '4b173979-d6bb-4b98-9cfd-abb7dcd6268d',\n",
       " 'd1d10d3e-057c-4548-8844-3f5bf7026f56',\n",
       " 'ffd6e400-e1f1-4fb4-8e66-51441a190fb1',\n",
       " 'aeb8c010-8bd9-4296-b267-b0ea6883405d',\n",
       " '6a13306e-8039-4f1e-a937-c43e78e38edf',\n",
       " 'd56fafc9-48fb-4d04-91b8-e6e0edfcff4b',\n",
       " 'c2c84dfd-e89d-4b62-82f6-0ea4fd1363fc',\n",
       " '4c6e0617-5618-4c29-a0f7-e8a61957f491',\n",
       " '95fa853a-cf9c-4808-a3f5-b73a650a6610',\n",
       " '98e01009-c1dc-4935-92c9-d6dbc224fe3d',\n",
       " '5ed132a8-89cc-4527-bf0b-9f23f66d3cb1',\n",
       " '7cc934ad-a106-4fbd-8a1d-f491cf185ea8',\n",
       " '6a27b3b5-e6ac-40ff-a2bd-ff994502913d',\n",
       " '19bfd454-7919-437e-ac9a-39683fbffde7',\n",
       " '3ff08415-752c-44a3-a2cc-048e930afa44',\n",
       " 'bb1eda3b-ef86-4add-bd18-c0e970b53f54',\n",
       " '0c83ccd5-4340-4409-9867-bd94c15b1b39',\n",
       " 'f99c911b-48d5-4380-b266-a1f6ce6b68b7',\n",
       " '7ac9f6b8-d683-4ef1-aa1e-8806d17319d1',\n",
       " '7511e202-27a0-472d-9b34-74341637e5c8',\n",
       " 'c7ac4408-f26e-4ade-a36e-6057cbaf852d',\n",
       " 'e748c7ec-1df3-434c-8b6e-03f0ca18cdc4',\n",
       " '5f3c40f5-c1a6-4d3c-bf22-480cadd6fa60',\n",
       " '3bfe7dfa-f83c-4acc-96bb-f17778f43b90',\n",
       " '42ede4d8-12b7-4c1d-a8b5-17fd06aec66c',\n",
       " '69202bf6-d402-49d5-b93b-49becdfc3660',\n",
       " 'ae7fd24e-29e9-44e5-a1f1-f19c74fd903e',\n",
       " '8a6618e1-3a96-492a-a1f7-383de8f9cd87',\n",
       " '859b2ff5-0e35-4fd5-bbda-41cd69027d0d',\n",
       " '4027cf5b-8746-4a38-9125-dfdc0bd67802',\n",
       " '0e124c89-dd25-4b0d-8b52-19bd5af58e48',\n",
       " '5eeb1e45-fb27-41bb-8b14-f8e0437e92cb',\n",
       " 'a85391f4-3d0d-4894-92e8-07e1cb89c051',\n",
       " 'd040a2da-c1b5-4848-aecd-7fb3770f27e3',\n",
       " '51fc211c-7b44-424b-83d6-8703fa3d5eb6',\n",
       " 'd08cf2b6-9adf-4253-b41c-99a2e7b617e2',\n",
       " '2858fd50-4265-4713-b261-6e144a964907',\n",
       " 'ed984a09-1575-475d-b421-92b1dfe2d76b',\n",
       " 'e40bf353-ae43-45d9-95e4-4dc4ea5fc2ff',\n",
       " '31b00bfb-3806-40f0-810d-3f27a464bb52',\n",
       " '1bad6937-eb31-4e72-8849-a382699339d0',\n",
       " 'ed019000-17eb-4aab-a1e0-3a523b0b33cb',\n",
       " '6516c75c-cc07-48a0-9366-de8bfc461d69',\n",
       " '2edb8d43-f080-4cca-906b-3eefd8f66422',\n",
       " '4ad175a5-591f-4033-b381-21f094ece20e',\n",
       " '6875fb81-ba27-4a2b-9333-b6486f93b222',\n",
       " '33ee0d19-252f-49b4-9346-e6345b68f266',\n",
       " '6a1020be-ca5a-4076-938b-bf45fd22fc48',\n",
       " 'c8b04d9c-6eb8-4f93-ad68-c570ebdc7267',\n",
       " '77cda0ca-1e99-4985-9192-1aee72d03b0b',\n",
       " '0704b253-d12d-4dc1-8e67-87f49ba4eae0',\n",
       " 'a265131d-d237-4516-8fc3-cb9c5754d8ea',\n",
       " '64208455-3dd3-4fe4-a54e-c9519fa6857c',\n",
       " '22d67baf-af08-4e4e-8e19-bfab851b4f52',\n",
       " 'f46c694d-3317-40b6-9f1b-3453b08e2d7f',\n",
       " '9d54fcb9-c766-4eaa-a33b-8c9001d92cc3',\n",
       " 'cd571dca-191f-4d0d-b852-36442519902a',\n",
       " '4d9d4d85-6ffc-4037-8840-9772b66807c8',\n",
       " '0f1342cd-3988-4be2-95f2-e2e512d4c4ba',\n",
       " 'aeaae6e5-04f9-498d-827c-a163bced2ac8',\n",
       " '20e2290f-18cc-457b-be0e-fb1f6d1c7e27',\n",
       " 'dbb8de45-cfed-427d-8b35-66e5542ad63f',\n",
       " '5e93e38b-bb42-43b1-8be7-cb72fb61458b',\n",
       " 'fa3ed7a3-741b-439f-b475-b632e0355cc5',\n",
       " 'f24d55a2-ecce-4cfc-959e-da958acd28a8',\n",
       " 'e0efac2b-b26e-4812-9059-bf6c4e4d6df4',\n",
       " '40998eae-af51-44c3-8ff3-c96263d66f34',\n",
       " '85200c0a-e2a4-48b1-af0e-378a4e5ee615',\n",
       " 'c8f56eb9-776c-4719-96bc-65e9c36e231b',\n",
       " '87b9a263-0101-4eb7-b200-24ab0ba44db2',\n",
       " 'eaacfe8f-8d42-446b-af25-a71942e9d20a',\n",
       " '5d0b566d-0deb-4fcb-ae97-309681295580',\n",
       " 'd5355290-19ad-496a-821e-11bbd472acf5',\n",
       " '5086efb8-4e42-4992-a076-f59c7996c56b',\n",
       " 'b592b8ca-f82d-453a-b94c-72c580020a3f',\n",
       " '292ddf01-c908-494e-a3a8-8ec0e5a3b60c',\n",
       " '90556f92-8699-406c-bf9d-1aa123f6f90a',\n",
       " 'e0db3f1f-28c0-411c-b460-8a30c89796ff']"
      ]
     },
     "execution_count": 75,
     "metadata": {},
     "output_type": "execute_result"
    }
   ],
   "source": [
    "uuids = [str(uuid4()) for _ in range(len(split_pages))]\n",
    "\n",
    "vector_store.add_documents(documents=split_pages, ids=uuids)"
   ]
  },
  {
   "cell_type": "code",
   "execution_count": null,
   "id": "724e30de-4bec-4b5f-8ef5-d57309b0468e",
   "metadata": {},
   "outputs": [],
   "source": [
    "# vector_store.add_documents(documents=m_split_text, ids=uuids)"
   ]
  },
  {
   "cell_type": "code",
   "execution_count": 76,
   "id": "d7fba208205c326e",
   "metadata": {
    "ExecuteTime": {
     "end_time": "2023-11-16T12:33:20.303443Z",
     "start_time": "2023-11-16T12:33:20.295108Z"
    },
    "collapsed": false,
    "jupyter": {
     "outputs_hidden": false
    }
   },
   "outputs": [
    {
     "name": "stdout",
     "output_type": "stream",
     "text": [
      "216\n"
     ]
    }
   ],
   "source": [
    "# print(chromadb._collection.count())\n",
    "print(vector_store._collection.count())"
   ]
  },
  {
   "cell_type": "code",
   "execution_count": 77,
   "id": "0d6f88f3-2907-4469-a46e-4aa1bc655cb0",
   "metadata": {},
   "outputs": [],
   "source": [
    "chromadb = vector_store"
   ]
  },
  {
   "cell_type": "code",
   "execution_count": 78,
   "id": "6a025626d6654dde",
   "metadata": {
    "ExecuteTime": {
     "end_time": "2023-11-17T13:12:38.521434Z",
     "start_time": "2023-11-17T13:12:38.076712Z"
    },
    "collapsed": false,
    "jupyter": {
     "outputs_hidden": false
    }
   },
   "outputs": [],
   "source": [
    "question = \"How does polymorphism work in C#?\"\n",
    "\n",
    "result = chromadb.similarity_search(question, k=3)"
   ]
  },
  {
   "cell_type": "code",
   "execution_count": 79,
   "id": "fbd6ad8ed2cd6585",
   "metadata": {
    "ExecuteTime": {
     "end_time": "2023-11-16T12:35:50.214634Z",
     "start_time": "2023-11-16T12:35:50.206265Z"
    },
    "collapsed": false,
    "jupyter": {
     "outputs_hidden": false
    }
   },
   "outputs": [
    {
     "name": "stdout",
     "output_type": "stream",
     "text": [
      "3\n",
      "visualization, while real models take advantage\n",
      "of representations in high dimensions, which, in\n",
      "particular, facilitates the optimization by provid-\n",
      "ing many degrees of freedom.\n",
      "Empirical evidence accumulated over twenty\n",
      "years demonstrates that state-of-the-art perfor-\n",
      "mance across application domains necessitates\n",
      "models with tens of layers, such as resid ualnet-\n",
      "works (see § 5.2) or Trans form ers (see § 5.3).\n",
      "Theoretical results show that, for a fixed com-\n",
      "putational budget or number of parameters, in-\n",
      "creasing the depth leads to a greater complexity\n",
      "of the resulting mapping [Telgarsky, 2016].\n",
      "47\n"
     ]
    }
   ],
   "source": [
    "print(len(result))\n",
    "print(result[0].page_content)"
   ]
  },
  {
   "cell_type": "markdown",
   "id": "be670f4a648d67fa",
   "metadata": {
    "collapsed": false,
    "jupyter": {
     "outputs_hidden": false
    }
   },
   "source": [
    "### Retrieval\n",
    "\n",
    "Maximum marginal relevance (MMR), als je gewoon de meest gelijkende resultaten zoekt, gebeurt het soms dat je een aantal resultaten terug krijgt die redundant zijn; die eigenlijk allemaal dezelfde inhoud terug geven. MMR kan hier helpen, het algoritme zal naast de relevantie van de resultaten, ook de 'diversiteit' in rekening nemen, en op basis van beide een nieuwe ranking maken. \n",
    "\n",
    "\n",
    "\n",
    "\n"
   ]
  },
  {
   "cell_type": "code",
   "execution_count": 5,
   "id": "a04692982d638fe0",
   "metadata": {
    "ExecuteTime": {
     "end_time": "2023-11-20T15:35:50.639198Z",
     "start_time": "2023-11-20T15:35:50.455659Z"
    },
    "collapsed": false,
    "jupyter": {
     "outputs_hidden": false
    }
   },
   "outputs": [],
   "source": [
    "\n",
    "from langchain.vectorstores import Chroma\n",
    "\n",
    "persist_directory = 'data/chroma/'\n",
    "\n",
    "chromadb = Chroma(\n",
    "    persist_directory=persist_directory,\n",
    "    embedding_function=embeddings\n",
    ")"
   ]
  },
  {
   "cell_type": "code",
   "execution_count": 9,
   "id": "4fdf44cd11ea0618",
   "metadata": {
    "ExecuteTime": {
     "end_time": "2023-11-17T13:12:42.969596Z",
     "start_time": "2023-11-17T13:12:42.965027Z"
    },
    "collapsed": false,
    "jupyter": {
     "outputs_hidden": false
    }
   },
   "outputs": [
    {
     "name": "stdout",
     "output_type": "stream",
     "text": [
      "[Document(page_content='> Polymorphism  \\n---\\n### Solving The Problem Domain', metadata={'header 1': 'Solving The Problem Domain'}), Document(page_content='* **Every class** in C# implicitly **inherits from `System.Object`**\\n* No need to write this\\n* You get these methods for free with this behaviour\\n* `ToString()`: returns the class name\\n* `Equals(Object)`: returns true\\n* if two reference variables reference the same object or\\n* if two value variables have the same value\\n* `GetHashCode()`: used in hash-based collections (e.g. `Dictionary`)  \\n---\\n### Solving The Problem Domain  \\n* **Superclass** contains shared properties and methods\\n* **Subclass inherits all** `public` and `protected` members\\n* `private` members are not accessible/inherited\\n* **Subclass extends or specialises** the superclass\\' behavior\\n* **\"Is a\"** relation between sub- and superclass  \\n---\\n### Inheritance', metadata={'header 1': 'Inheritance'}), Document(page_content='C# has different types of collections, all serving its unique purpose:\\n* **List**: just a simple list of items\\n* **ArrayList**: a simple list to store `object`s, no type is given\\n* **Stack**: LIFO structure\\n* **Queue**: FIFO structure\\n* **Dictionary**: list of key-value pairs in unordered way\\n* **Hashtable**: list of key-value pairs stored by a hash of the key  \\nLearn about collection with this [tutorials](https://www.tutorialsteacher.com/csharp/csharp-collection).  \\n---\\n### Associations & collections', metadata={'header 1': 'Implementations'})]\n"
     ]
    }
   ],
   "source": [
    "# result was het resultaat van een similarity_search\n",
    "print(result)"
   ]
  },
  {
   "cell_type": "code",
   "execution_count": 80,
   "id": "1c8630bf9bf8ff46",
   "metadata": {
    "ExecuteTime": {
     "end_time": "2023-11-17T12:40:28.969269Z",
     "start_time": "2023-11-17T12:40:28.751367Z"
    },
    "collapsed": false,
    "jupyter": {
     "outputs_hidden": false
    }
   },
   "outputs": [
    {
     "data": {
      "text/plain": [
       "[Document(metadata={'page': 46, 'source': 'data/lbdl.pdf'}, page_content='visualization, while real models take advantage\\nof representations in high dimensions, which, in\\nparticular, facilitates the optimization by provid-\\ning many degrees of freedom.\\nEmpirical evidence accumulated over twenty\\nyears demonstrates that state-of-the-art perfor-\\nmance across application domains necessitates\\nmodels with tens of layers, such as resid ualnet-\\nworks (see § 5.2) or Trans form ers (see § 5.3).\\nTheoretical results show that, for a fixed com-\\nputational budget or number of parameters, in-\\ncreasing the depth leads to a greater complexity\\nof the resulting mapping [Telgarsky, 2016].\\n47'),\n",
       " Document(metadata={'page': 137, 'source': 'data/lbdl.pdf'}, page_content='“because her puppy was sick, Jane was”.\\nThis results in particular in the ability to solve\\nfew-shot prediction, where only a handful of\\ntraining examples are available, as illustrated\\nin Figure 7.1. More surprisingly, when given a\\ncarefully crafted prompt, it can exhibit abilities\\n138'),\n",
       " Document(metadata={'page': 98, 'source': 'data/lbdl.pdf'}, page_content='and not polynomial, any continuous function f\\ncan be approximated arbitrarily well uniformly\\non a compact domain, which is bounded and\\ncontains its boundary, by a model of the form\\nl2◦σ◦l1where l1andl2are affine. Such a model\\nis aMLP with a single hidden layer, and this\\nresult implies that it can approximate anything\\nof practical value. However, this approximation\\nholds if the dimension of the first linear layer’s\\noutput can be arbitrarily large.\\nIn spite of their simplicity, MLPs remain an im-\\nportant tool when the dimension of the signal\\nto be processed is not too large.\\n99')]"
      ]
     },
     "execution_count": 80,
     "metadata": {},
     "output_type": "execute_result"
    }
   ],
   "source": [
    "chromadb.max_marginal_relevance_search(question, k=3, fetch_k=5)"
   ]
  },
  {
   "cell_type": "markdown",
   "id": "f0226dd4e75234ba",
   "metadata": {
    "collapsed": false,
    "jupyter": {
     "outputs_hidden": false
    }
   },
   "source": [
    "SelfQuery, een ander algoritme dat je met langchain kan gebruiken is SelfQuery, het idee is dat je je vraag stelt in 'natuurlijke taal', en dat de LLM zichzelf gebruikt (vandaar de naam) om onderscheid te maken tussen delen van de vraag waarmee de metadata kan gefilterd worden, en de eigenlijk inhoud zelf. \n",
    "\n",
    "Als we kijken welke metadata er in het resultaat van onze similarity_search zit"
   ]
  },
  {
   "cell_type": "code",
   "execution_count": 10,
   "id": "37595c357758a6ca",
   "metadata": {
    "ExecuteTime": {
     "end_time": "2023-11-17T13:12:47.167841Z",
     "start_time": "2023-11-17T13:12:47.163267Z"
    },
    "collapsed": false,
    "jupyter": {
     "outputs_hidden": false
    }
   },
   "outputs": [
    {
     "name": "stdout",
     "output_type": "stream",
     "text": [
      "{'header 1': 'Solving The Problem Domain'}\n",
      "{'header 1': 'Inheritance'}\n",
      "{'header 1': 'Implementations'}\n"
     ]
    }
   ],
   "source": [
    "for d in result:\n",
    "    print (d.metadata)"
   ]
  },
  {
   "cell_type": "code",
   "execution_count": 13,
   "id": "60f8452e23dd90d8",
   "metadata": {
    "ExecuteTime": {
     "end_time": "2023-11-20T15:43:49.021684Z",
     "start_time": "2023-11-20T15:43:49.015881Z"
    },
    "collapsed": false,
    "jupyter": {
     "outputs_hidden": false
    }
   },
   "outputs": [],
   "source": [
    "from langchain.chains.query_constructor.base import AttributeInfo\n",
    "metadata_info = [AttributeInfo(name=\"header 1\", description=\"The subject of this part of the course\", type=\"string\")]"
   ]
  },
  {
   "cell_type": "code",
   "execution_count": 11,
   "id": "475c7f249e7a4f81",
   "metadata": {
    "ExecuteTime": {
     "end_time": "2023-11-20T15:40:17.058172Z",
     "start_time": "2023-11-20T15:40:17.033410Z"
    },
    "collapsed": false,
    "jupyter": {
     "outputs_hidden": false
    }
   },
   "outputs": [],
   "source": [
    "from langchain.retrievers.self_query.base import SelfQueryRetriever\n",
    "\n",
    "self_retriever = SelfQueryRetriever.from_llm(llm, chromadb, \"C# programming course\", metadata_info, verbose=True)"
   ]
  },
  {
   "cell_type": "code",
   "execution_count": 12,
   "id": "4c66c5d751cf57a2",
   "metadata": {
    "ExecuteTime": {
     "end_time": "2023-11-20T15:40:21.123733Z",
     "start_time": "2023-11-20T15:40:19.443451Z"
    },
    "collapsed": false,
    "jupyter": {
     "outputs_hidden": false
    }
   },
   "outputs": [
    {
     "name": "stdout",
     "output_type": "stream",
     "text": [
      "[Document(page_content='> Polymorphism  \\n---\\n### Solving The Problem Domain', metadata={'header 1': 'Solving The Problem Domain'}), Document(page_content='Now implement the `SavingsAccount` class!  \\n---\\nname: polymorphism\\nclass: dark middle', metadata={'header 1': 'Example'}), Document(page_content='> Domain Driven Design  \\n---\\n### Domain Driven Design', metadata={'header 1': 'Solving The Problem Domain'}), Document(page_content='> Inheritance  \\n---\\n### Solving The Problem Domain', metadata={'header 1': 'Solving The Problem Domain'})]\n"
     ]
    }
   ],
   "source": [
    "docs = self_retriever.get_relevant_documents(\"When is polymorphism useful?\")\n",
    "print(docs)"
   ]
  },
  {
   "cell_type": "code",
   "execution_count": null,
   "id": "e4b2f461eae61ce8",
   "metadata": {
    "collapsed": false,
    "jupyter": {
     "outputs_hidden": false
    }
   },
   "outputs": [],
   "source": []
  },
  {
   "cell_type": "code",
   "execution_count": 14,
   "id": "600232b512f98eef",
   "metadata": {
    "ExecuteTime": {
     "end_time": "2023-11-20T15:44:28.532599Z",
     "start_time": "2023-11-20T15:44:26.526636Z"
    },
    "collapsed": false,
    "jupyter": {
     "outputs_hidden": false
    }
   },
   "outputs": [
    {
     "name": "stdout",
     "output_type": "stream",
     "text": [
      "[Document(page_content='> Polymorphism  \\n---\\n### Solving The Problem Domain', metadata={'header 1': 'Solving The Problem Domain'}), Document(page_content='> Domain Driven Design  \\n---\\n### Domain Driven Design', metadata={'header 1': 'Solving The Problem Domain'}), Document(page_content='> Inheritance  \\n---\\n### Solving The Problem Domain', metadata={'header 1': 'Solving The Problem Domain'}), Document(page_content='> Abstract class  \\n---\\n### Solving The Problem Domain', metadata={'header 1': 'Solving The Problem Domain'})]\n"
     ]
    }
   ],
   "source": [
    "docs = self_retriever.get_relevant_documents(\"When is polymorphism useful, exclude examples\")\n",
    "print(docs)"
   ]
  },
  {
   "cell_type": "markdown",
   "id": "be4f0e0a742392fc",
   "metadata": {
    "collapsed": false,
    "jupyter": {
     "outputs_hidden": false
    }
   },
   "source": [
    "### Vragen beantwoorden\n",
    "\n",
    "We hebben gezien hoe we data kunnen inladen, hoe we documenten kunnen splitten en in een vectorstore krijgen, en hoe we dan een relevant document kunnen opvragen voor onze vragen.\n",
    "\n",
    "De volgende stap is nu de LLM deze vraag te laten beantwoorden, met behulp van dit document"
   ]
  },
  {
   "cell_type": "code",
   "execution_count": 81,
   "id": "a421318d7dc4266",
   "metadata": {
    "ExecuteTime": {
     "end_time": "2023-11-20T15:50:53.955407Z",
     "start_time": "2023-11-20T15:50:53.944863Z"
    },
    "collapsed": false,
    "jupyter": {
     "outputs_hidden": false
    }
   },
   "outputs": [],
   "source": [
    "from langchain.chains import RetrievalQA\n",
    "\n",
    "qa_chain = RetrievalQA.from_chain_type(llm, retriever=chromadb.as_retriever())\n"
   ]
  },
  {
   "cell_type": "code",
   "execution_count": 82,
   "id": "e6b4a6fccc07b786",
   "metadata": {
    "ExecuteTime": {
     "end_time": "2023-11-20T15:51:31.144182Z",
     "start_time": "2023-11-20T15:51:29.526270Z"
    },
    "collapsed": false,
    "jupyter": {
     "outputs_hidden": false
    }
   },
   "outputs": [
    {
     "name": "stderr",
     "output_type": "stream",
     "text": [
      "/tmp/ipykernel_275/1172359795.py:1: LangChainDeprecationWarning: The method `Chain.__call__` was deprecated in langchain 0.1.0 and will be removed in 1.0. Use :meth:`~invoke` instead.\n",
      "  result = qa_chain({\"query\" : \"When is polymorphism useful?\"})\n"
     ]
    },
    {
     "name": "stdout",
     "output_type": "stream",
     "text": [
      "{'query': 'When is polymorphism useful?', 'result': \" I don't know.\"}\n"
     ]
    }
   ],
   "source": [
    "result = qa_chain({\"query\" : \"When is polymorphism useful?\"})\n",
    "print(result)"
   ]
  },
  {
   "cell_type": "code",
   "execution_count": 83,
   "id": "e1dddc9e2a4d9ce8",
   "metadata": {
    "ExecuteTime": {
     "end_time": "2023-11-20T15:52:35.551210Z",
     "start_time": "2023-11-20T15:52:32.487653Z"
    },
    "collapsed": false,
    "jupyter": {
     "outputs_hidden": false
    }
   },
   "outputs": [
    {
     "name": "stdout",
     "output_type": "stream",
     "text": [
      "{'query': 'Give an example of where polymorphism can be used?', 'result': ' Polymorphism can be used in programming languages to create functions or methods that can operate on different types of data. For example, a function that calculates the area of a shape can be polymorphic, meaning it can work with different types of shapes such as circles, squares, or triangles. This allows for more flexible and reusable code.'}\n"
     ]
    }
   ],
   "source": [
    "result = qa_chain({\"query\": \"Give an example of where polymorphism can be used?\"})\n",
    "print(result)"
   ]
  },
  {
   "cell_type": "code",
   "execution_count": 84,
   "id": "19acf46da1ac7ad1",
   "metadata": {
    "ExecuteTime": {
     "end_time": "2023-11-20T15:58:53.564161Z",
     "start_time": "2023-11-20T15:58:53.542880Z"
    },
    "collapsed": false,
    "jupyter": {
     "outputs_hidden": false
    }
   },
   "outputs": [],
   "source": [
    "from langchain.prompts import PromptTemplate\n",
    "\n",
    "template = \"\"\"Use the following pieces of context to answer the question at the end. If you don't know the answer, just say that you don't know, don't try to make up an answer. Use three sentences maximum. Keep the answer as concise as possible. Always say \"thanks to HOGENT course!\" at the end of the answer.\n",
    "\n",
    "{context}\n",
    "\n",
    "Question: {question}\n",
    "\n",
    "Helpful Answer:\"\"\"\n",
    "\n",
    "QA_CHAIN_PROMPT = PromptTemplate.from_template(template)\n",
    "\n",
    "# Run chain\n",
    "\n",
    "qa_chain = RetrievalQA.from_chain_type(\n",
    "    llm,\n",
    "    retriever=chromadb.as_retriever(),\n",
    "    return_source_documents=True,\n",
    "    chain_type_kwargs={\"prompt\": QA_CHAIN_PROMPT}\n",
    ")"
   ]
  },
  {
   "cell_type": "code",
   "execution_count": 85,
   "id": "d56feab5ddee85f0",
   "metadata": {
    "ExecuteTime": {
     "end_time": "2023-11-20T16:00:04.272539Z",
     "start_time": "2023-11-20T16:00:01.571287Z"
    },
    "collapsed": false,
    "jupyter": {
     "outputs_hidden": false
    }
   },
   "outputs": [
    {
     "name": "stdout",
     "output_type": "stream",
     "text": [
      " Polymorphism can be used in programming languages to create functions or objects that can operate on different types of data. For example, a function that can add two numbers together can also be used to concatenate two strings. Thanks to HOGENT course!\n"
     ]
    }
   ],
   "source": [
    "result = qa_chain({\"query\": \"Give an example of where polymorphism can be used?\"})\n",
    "print(result[\"result\"])"
   ]
  },
  {
   "cell_type": "code",
   "execution_count": 86,
   "id": "832c45f65e1e47e4",
   "metadata": {
    "ExecuteTime": {
     "end_time": "2023-11-20T16:00:15.964769Z",
     "start_time": "2023-11-20T16:00:15.957039Z"
    },
    "collapsed": false,
    "jupyter": {
     "outputs_hidden": false
    }
   },
   "outputs": [
    {
     "name": "stdout",
     "output_type": "stream",
     "text": [
      "page_content='“because her puppy was sick, Jane was”.\n",
      "This results in particular in the ability to solve\n",
      "few-shot prediction, where only a handful of\n",
      "training examples are available, as illustrated\n",
      "in Figure 7.1. More surprisingly, when given a\n",
      "carefully crafted prompt, it can exhibit abilities\n",
      "138' metadata={'page': 137, 'source': 'data/lbdl.pdf'}\n"
     ]
    }
   ],
   "source": [
    "print(result[\"source_documents\"][0])"
   ]
  },
  {
   "cell_type": "markdown",
   "id": "df0c1ceb0525d314",
   "metadata": {
    "collapsed": false,
    "jupyter": {
     "outputs_hidden": false
    }
   },
   "source": [
    "#### map reduce\n",
    "\n",
    "Als de documenten te uitgebreid zijn, zullen ze al snel groter zijn dan de beschikbare context voor LLM's. Een oplossing is om map reduce toe te passen, simpel gezegd zal je de documenten opsplitsen, de vraag naar elk sturen 'mappen', en dan de verschillende antwoorden 'reducen'.\n",
    "\n",
    "Dit leidt snel tot vrij veel API calls dus we gaan dit hier niet demonstreren. Er zijn voorbeelden en uitleg te vinden op langchain als je dit nodig hebt.\n"
   ]
  },
  {
   "cell_type": "markdown",
   "id": "f55b2ec3adccfe60",
   "metadata": {
    "collapsed": false,
    "jupyter": {
     "outputs_hidden": false
    }
   },
   "source": [
    "### Chat\n",
    "\n",
    "Om nu echt te kunnen chatten met de data ontbreekt er nog een deel van de puzzel, we moeten de eerder gegeven antwoorden ook kunnen meenemen in een volgende vraag. Zodat we extra verduidelijking kunnen krijgen, zoals we dat tegenwoordig gewend zijn van chatbots.\n"
   ]
  },
  {
   "cell_type": "code",
   "execution_count": 87,
   "id": "6821fe5e7d5f7823",
   "metadata": {
    "ExecuteTime": {
     "end_time": "2023-11-20T16:09:05.641770Z",
     "start_time": "2023-11-20T16:09:05.624791Z"
    },
    "collapsed": false,
    "jupyter": {
     "outputs_hidden": false
    }
   },
   "outputs": [
    {
     "name": "stderr",
     "output_type": "stream",
     "text": [
      "/tmp/ipykernel_275/3025019359.py:5: LangChainDeprecationWarning: Please see the migration guide at: https://python.langchain.com/docs/versions/migrating_memory/\n",
      "  memory = ConversationBufferMemory(\n"
     ]
    }
   ],
   "source": [
    "# wat we missen is een chat geheugen\n",
    "from langchain.memory import ConversationBufferMemory\n",
    "from langchain.chains import ConversationalRetrievalChain\n",
    "\n",
    "memory = ConversationBufferMemory(\n",
    "    memory_key=\"chat_history\",\n",
    "    return_messages=True\n",
    ")\n",
    "\n",
    "qa_conversation = ConversationalRetrievalChain.from_llm(\n",
    "    llm,\n",
    "    retriever=chromadb.as_retriever(),\n",
    "    memory=memory\n",
    ")\n"
   ]
  },
  {
   "cell_type": "code",
   "execution_count": 29,
   "id": "f02490e0875f5e97",
   "metadata": {
    "ExecuteTime": {
     "end_time": "2023-11-20T16:10:14.446765Z",
     "start_time": "2023-11-20T16:10:12.138059Z"
    },
    "collapsed": false,
    "jupyter": {
     "outputs_hidden": false
    }
   },
   "outputs": [
    {
     "name": "stdout",
     "output_type": "stream",
     "text": [
      "{'question': 'Give an example of where polymorphism can be used?', 'chat_history': [HumanMessage(content='Give an example of where polymorphism can be used?'), AIMessage(content=' Polymorphism can be used when creating a class hierarchy, where a parent class is inherited by multiple child classes. For example, a `BankAccount` class can be inherited by a `SavingsAccount` class and a `CheckingAccount` class.'), HumanMessage(content='Give an example of where polymorphism can be used?'), AIMessage(content=' Polymorphism can be used to create a class hierarchy by having a parent class and then creating child classes that inherit the properties of the parent class.')], 'answer': ' Polymorphism can be used to create a class hierarchy by having a parent class and then creating child classes that inherit the properties of the parent class.'}\n"
     ]
    }
   ],
   "source": [
    "# opgelet! de key is nu 'question' en niet 'query'\n",
    "result = qa_conversation({\"question\": \"Give an example of where polymorphism can be used?\"})\n",
    "print(result)"
   ]
  },
  {
   "cell_type": "code",
   "execution_count": 30,
   "id": "435eca598799b5ce",
   "metadata": {
    "ExecuteTime": {
     "end_time": "2023-11-20T16:11:16.151638Z",
     "start_time": "2023-11-20T16:11:13.294568Z"
    },
    "collapsed": false,
    "jupyter": {
     "outputs_hidden": false
    }
   },
   "outputs": [
    {
     "name": "stdout",
     "output_type": "stream",
     "text": [
      "{'question': 'What would an implementation of a SavingsAccount look like?', 'chat_history': [HumanMessage(content='Give an example of where polymorphism can be used?'), AIMessage(content=' Polymorphism can be used when creating a class hierarchy, where a parent class is inherited by multiple child classes. For example, a `BankAccount` class can be inherited by a `SavingsAccount` class and a `CheckingAccount` class.'), HumanMessage(content='Give an example of where polymorphism can be used?'), AIMessage(content=' Polymorphism can be used to create a class hierarchy by having a parent class and then creating child classes that inherit the properties of the parent class.'), HumanMessage(content='What would an implementation of a SavingsAccount look like?'), AIMessage(content=' Checking the type of the instance is possible with the `is` keyword: \\n```\\nBankAccount s = new SavingsAccount(\"123-123123-13\", 0.1M)\\nif (s is SavingsAccount)\\n{\\n// Do something useful\\n}\\n```')], 'answer': ' Checking the type of the instance is possible with the `is` keyword: \\n```\\nBankAccount s = new SavingsAccount(\"123-123123-13\", 0.1M)\\nif (s is SavingsAccount)\\n{\\n// Do something useful\\n}\\n```'}\n"
     ]
    }
   ],
   "source": [
    "result = qa_conversation({\"question\": \"What would an implementation of a SavingsAccount look like?\"})\n",
    "print(result)"
   ]
  }
 ],
 "metadata": {
  "kernelspec": {
   "display_name": "Python 3 (ipykernel)",
   "language": "python",
   "name": "python3"
  },
  "language_info": {
   "codemirror_mode": {
    "name": "ipython",
    "version": 3
   },
   "file_extension": ".py",
   "mimetype": "text/x-python",
   "name": "python",
   "nbconvert_exporter": "python",
   "pygments_lexer": "ipython3",
   "version": "3.11.6"
  }
 },
 "nbformat": 4,
 "nbformat_minor": 5
}
